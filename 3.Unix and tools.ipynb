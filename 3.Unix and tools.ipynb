{
 "metadata": {
  "name": "",
  "signature": "sha256:6576a750d5222e4f2e022d66ab081e8d85b77fcea927ae3ce9d540aa2e9e0f6f"
 },
 "nbformat": 3,
 "nbformat_minor": 0,
 "worksheets": [
  {
   "cells": [
    {
     "cell_type": "markdown",
     "metadata": {},
     "source": [
      "## The unix system\n",
      "\n",
      "* Prepending commands with !\n",
      "* Files, directories and paths\n",
      "* AWS, virtual machines and AMI's\n",
      "* Bash scripts (just to know what they are)\n",
      "* grep, wc, sort\n",
      "* .bashrc, environmental variables, paths.\n",
      "* Packages and package manages (get-apt, Pypi, pip)\n",
      "* Groups and permissions\n",
      "* Git and Hithub\n"
     ]
    },
    {
     "cell_type": "markdown",
     "metadata": {},
     "source": [
      "## listing files\n",
      "* The `ls` command lists the files in the current directory\n",
      "* `ls -F` identifies each files as directory, executable, text\n",
      "* `ls -lrt`: \n",
      "    * `l` (long) lists extensive information about each file\n",
      "    * `rt` (reverse time): list files in reverse order in time."
     ]
    },
    {
     "cell_type": "code",
     "collapsed": false,
     "input": [
      "!ls"
     ],
     "language": "python",
     "metadata": {},
     "outputs": [
      {
       "output_type": "stream",
       "stream": "stdout",
       "text": [
        "Numpy and Cython.ipynb        PythonBasicDataTypes.ipynb\r\n",
        "PregnancyLengthAnalysis.ipynb Unix and tools.ipynb\r\n"
       ]
      }
     ],
     "prompt_number": 1
    },
    {
     "cell_type": "code",
     "collapsed": false,
     "input": [
      "!ls -F"
     ],
     "language": "python",
     "metadata": {},
     "outputs": [
      {
       "output_type": "stream",
       "stream": "stdout",
       "text": [
        "\u001b[34mDir1\u001b[m\u001b[m/                          PregnancyLengthAnalysis.ipynb  Unix and tools.ipynb\r\n",
        "Numpy and Cython.ipynb         PythonBasicDataTypes.ipynb\r\n"
       ]
      }
     ],
     "prompt_number": 1
    },
    {
     "cell_type": "code",
     "collapsed": false,
     "input": [
      "!ls -lrt"
     ],
     "language": "python",
     "metadata": {},
     "outputs": [
      {
       "output_type": "stream",
       "stream": "stdout",
       "text": [
        "total 184\r\n",
        "-rw-r--r--  1 yoavfreund  staff  33349 Jul 15 10:11 PregnancyLengthAnalysis.ipynb\r\n",
        "-rw-r--r--  1 yoavfreund  staff  48036 Aug 18 19:40 PythonBasicDataTypes.ipynb\r\n",
        "-rw-r--r--  1 yoavfreund  staff   3541 Sep  2 09:52 Numpy and Cython.ipynb\r\n",
        "-rw-r--r--  1 yoavfreund  staff    181 Sep  9 17:11 Unix and tools.ipynb\r\n"
       ]
      }
     ],
     "prompt_number": 2
    },
    {
     "cell_type": "code",
     "collapsed": false,
     "input": [
      "!mkdir Dir1\n",
      "!ls -F"
     ],
     "language": "python",
     "metadata": {},
     "outputs": [
      {
       "output_type": "stream",
       "stream": "stdout",
       "text": [
        "\u001b[34mDir1\u001b[m\u001b[m/                          PregnancyLengthAnalysis.ipynb  Unix and tools.ipynb\r\n",
        "Numpy and Cython.ipynb         PythonBasicDataTypes.ipynb\r\n"
       ]
      }
     ],
     "prompt_number": 3
    },
    {
     "cell_type": "markdown",
     "metadata": {},
     "source": [
      "## Navigating file paths"
     ]
    },
    {
     "cell_type": "code",
     "collapsed": false,
     "input": [
      "# pwd identifies the current working directory\n",
      "!pwd\n",
      "# the -P flag gives the true, rather than link-based directory\n",
      "!pwd -P"
     ],
     "language": "python",
     "metadata": {},
     "outputs": [
      {
       "output_type": "stream",
       "stream": "stdout",
       "text": [
        "/Users/yoavfreund/DSE100/notebooks\r\n"
       ]
      },
      {
       "output_type": "stream",
       "stream": "stdout",
       "text": [
        "/Users/yoavfreund/academic.papers/Courses/DSE100/notebooks\r\n"
       ]
      }
     ],
     "prompt_number": 2
    },
    {
     "cell_type": "code",
     "collapsed": false,
     "input": [
      "# !cd causes unix to move to a different directory, but leaves python behind\n",
      "# \".\" corresponds to the current directory\n",
      "# \"..\" corresponds to the parent directory\n",
      "# \"../..\" corrsponds to the grandparent directory\n",
      "# etc\n",
      "!cd ..\n",
      "!pwd"
     ],
     "language": "python",
     "metadata": {},
     "outputs": [
      {
       "output_type": "stream",
       "stream": "stdout",
       "text": [
        "/Users/yoavfreund/DSE100/notebooks\r\n"
       ]
      }
     ],
     "prompt_number": 3
    },
    {
     "cell_type": "code",
     "collapsed": false,
     "input": [
      "# To actually change the directory use the magic %cd\n",
      "%cd ..\n",
      "!pwd "
     ],
     "language": "python",
     "metadata": {},
     "outputs": [
      {
       "output_type": "stream",
       "stream": "stdout",
       "text": [
        "/Users/yoavfreund/academic.papers\n",
        "/Users/yoavfreund/academic.papers\r\n"
       ]
      }
     ],
     "prompt_number": 7
    },
    {
     "cell_type": "code",
     "collapsed": false,
     "input": [
      "%cd /Users/yoavfreund/academic.papers/Courses/DSE100/notebooks/Dir1\n",
      "!ls"
     ],
     "language": "python",
     "metadata": {},
     "outputs": [
      {
       "output_type": "stream",
       "stream": "stdout",
       "text": [
        "/Users/yoavfreund/academic.papers/Courses/DSE100/notebooks/Dir1\n",
        "file0 file1 file2 file3 file4\r\n"
       ]
      }
     ],
     "prompt_number": 9
    },
    {
     "cell_type": "markdown",
     "metadata": {},
     "source": [
      "## Creating files and directories"
     ]
    },
    {
     "cell_type": "code",
     "collapsed": false,
     "input": [
      "# to create a file or update the time-stamp of the file use `touch`\n",
      "for i in range(10):\n",
      "    !touch file$i\n",
      "!ls -l"
     ],
     "language": "python",
     "metadata": {},
     "outputs": [
      {
       "output_type": "stream",
       "stream": "stdout",
       "text": [
        "total 0\r\n",
        "-rw-r--r--  1 yoavfreund  staff  0 Sep  9 17:41 file0\r\n",
        "-rw-r--r--  1 yoavfreund  staff  0 Sep  9 17:41 file1\r\n",
        "-rw-r--r--  1 yoavfreund  staff  0 Sep  9 17:41 file2\r\n",
        "-rw-r--r--  1 yoavfreund  staff  0 Sep  9 17:41 file3\r\n",
        "-rw-r--r--  1 yoavfreund  staff  0 Sep  9 17:41 file4\r\n",
        "-rw-r--r--  1 yoavfreund  staff  0 Sep  9 17:41 file5\r\n",
        "-rw-r--r--  1 yoavfreund  staff  0 Sep  9 17:41 file6\r\n",
        "-rw-r--r--  1 yoavfreund  staff  0 Sep  9 17:41 file7\r\n",
        "-rw-r--r--  1 yoavfreund  staff  0 Sep  9 17:41 file8\r\n",
        "-rw-r--r--  1 yoavfreund  staff  0 Sep  9 17:41 file9\r\n"
       ]
      }
     ],
     "prompt_number": 11
    },
    {
     "cell_type": "code",
     "collapsed": false,
     "input": [
      "# to create a directory, use `mkdir`\n",
      "for i in range(3):\n",
      "    !mkdir Dir$i\n",
      "!ls -F"
     ],
     "language": "python",
     "metadata": {},
     "outputs": [
      {
       "output_type": "stream",
       "stream": "stdout",
       "text": [
        "\u001b[34mDir0\u001b[m\u001b[m/  \u001b[34mDir1\u001b[m\u001b[m/  \u001b[34mDir2\u001b[m\u001b[m/  file0  file1  file2  file3  file4  file5  file6  file7  file8  file9\r\n"
       ]
      }
     ],
     "prompt_number": 12
    },
    {
     "cell_type": "markdown",
     "metadata": {},
     "source": [
      "## Removing files and directories"
     ]
    },
    {
     "cell_type": "code",
     "collapsed": false,
     "input": [
      "# to remove a file use the command `rm`\n",
      "for i in range(10):\n",
      "    !rm file$i\n",
      "!ls -l"
     ],
     "language": "python",
     "metadata": {},
     "outputs": [
      {
       "output_type": "stream",
       "stream": "stdout",
       "text": [
        "total 0\r\n",
        "drwxr-xr-x  2 yoavfreund  staff  68 Sep  9 17:43 \u001b[34mDir0\u001b[m\u001b[m\r\n",
        "drwxr-xr-x  2 yoavfreund  staff  68 Sep  9 17:43 \u001b[34mDir1\u001b[m\u001b[m\r\n",
        "drwxr-xr-x  2 yoavfreund  staff  68 Sep  9 17:43 \u001b[34mDir2\u001b[m\u001b[m\r\n"
       ]
      }
     ],
     "prompt_number": 13
    },
    {
     "cell_type": "code",
     "collapsed": false,
     "input": [
      "# to remove an empry directory, use 'rmdir'\n",
      "# If you want to remove a directory and everything that is in it use `rm -rf`. Note that this\n",
      "# is an irreversible action, it is NOT like moving a file to the trash bin.\n",
      "!rm -rf Dir*\n",
      "!ls -l"
     ],
     "language": "python",
     "metadata": {},
     "outputs": [],
     "prompt_number": 15
    },
    {
     "cell_type": "markdown",
     "metadata": {},
     "source": [
      "## Environment variables"
     ]
    },
    {
     "cell_type": "code",
     "collapsed": false,
     "input": [
      "%env"
     ],
     "language": "python",
     "metadata": {},
     "outputs": [
      {
       "metadata": {},
       "output_type": "pyout",
       "prompt_number": 1,
       "text": [
        "{'Apple_PubSub_Socket_Render': '/tmp/launch-Yh0aqz/Render',\n",
        " 'BD_GitRoot': '/Users/yoavfreund/BigData/UCSD_BigData',\n",
        " 'CLASSLIBDIR': '/System\\\\ Folder/Extensions/MRJ\\\\ Libraries/MRJClasses',\n",
        " 'CLASSPATH': '/System/Library/Java/Extensions/QTJava.zip:/System\\\\ Folder/Extensions/MRJ\\\\ Libraries/MRJClasses/JDKClasses.zip:.',\n",
        " 'CLICOLOR': '1',\n",
        " 'COM_GOOGLE_CHROME_FRAMEWORK_SERVICE_PROCESS/USERS/YOAVFREUND/LIBRARY/APPLICATION_SUPPORT/GOOGLE/CHROME_SOCKET': '/tmp/launch-ODOCqS/ServiceProcessSocket',\n",
        " 'CVSROOT': 'yfreund@seed.ucsd.edu:/data/cvsroot/',\n",
        " 'CVS_RSH': '/usr/bin/ssh',\n",
        " 'CVS_SERVER': '/usr/bin/cvs',\n",
        " 'DISPLAY': '/tmp/launch-RHDvEK/org.macosforge.xquartz:0',\n",
        " 'EC2_VAULT': '/Users/yoavfreund/BigData/Vault',\n",
        " 'EDITOR': 'emacsclient',\n",
        " 'GIT_EDITOR': 'vi',\n",
        " 'GIT_PAGER': 'cat',\n",
        " 'HADOOP_INSTALL': '/Applications/',\n",
        " 'HOME': '/Users/yoavfreund',\n",
        " 'INFOPATH': '{}:/usr/local/teTeX/info',\n",
        " 'LANG': 'en_US.UTF-8',\n",
        " 'LESS': '-R',\n",
        " 'LOGNAME': 'yoavfreund',\n",
        " 'MANPATH': '{}:/usr/local/teTeX/man:/usr/local/ose/7.0pl5/man',\n",
        " 'OSE_HOST': 'POWER_MACOSX',\n",
        " 'PAGER': 'cat',\n",
        " 'PATH': '//anaconda/bin:/opt/local/bin:/opt/local/sbin://anaconda/bin:/opt/local/bin:/opt/local/sbin:/Users/yoavfreund/BigData/UCSD_BigData/LocalScripts:/usr/local/git/bin/:/Applications/Gnuplot.app/Contents/Resources/bin:/Library/Frameworks/Python.framework/Versions/2.7/bin:/usr/local/bin:/usr/bin:/usr/texbin:/sw/bin:{/usr/bin:/bin:/usr/sbin:/sbin:/usr/local/bin:/opt/X11/bin:/usr/local/git/bin:/usr/local/MacGPG2/bin}:/usr/local/ose/7.0pl5/bin:/Users/yoavfreund/BigData/elastic-mapreduce-cli',\n",
        " 'PWD': '/Users/yoavfreund/DSE100/notebooks',\n",
        " 'PYTHONEXECUTABLE': '//anaconda/bin/python',\n",
        " 'PYTHONPATH': '/anaconda/lib/python2.7/site-packages/:/Library/Frameworks/Python.framework/Versions/Current/bin/python:/Users/yoavfreund/projects/Webwork.Improvement.Project/Demo_for_utube/src:/opt/local/Library/Frameworks/Python.framework/Versions/2.7/lib/python2.7/site-packages:/usr/bin/anaconda/lib/python2.7/site-packages',\n",
        " 'SHELL': '/bin/bash',\n",
        " 'SHLVL': '2',\n",
        " 'SSH_AUTH_SOCK': '/tmp/launch-tqzqhg/Listeners',\n",
        " 'TERM': 'xterm-color',\n",
        " 'TERM_PROGRAM': 'Apple_Terminal',\n",
        " 'TERM_PROGRAM_VERSION': '326',\n",
        " 'TERM_SESSION_ID': 'B001DC24-5774-4E1B-9784-3400E19CD9E5',\n",
        " 'TMPDIR': '/var/folders/80/c2kfvdvx5cx570r4vlzqgb840000gq/T/',\n",
        " 'USER': 'yoavfreund',\n",
        " '_': '//anaconda/python.app/Contents/MacOS/python',\n",
        " '__CF_USER_TEXT_ENCODING': '0x1F7:0:0',\n",
        " '__CHECKFIX1436934': '1'}"
       ]
      }
     ],
     "prompt_number": 1
    },
    {
     "cell_type": "code",
     "collapsed": false,
     "input": [
      "%magic debug"
     ],
     "language": "python",
     "metadata": {},
     "outputs": [],
     "prompt_number": 8
    },
    {
     "cell_type": "code",
     "collapsed": false,
     "input": [],
     "language": "python",
     "metadata": {},
     "outputs": [
      {
       "output_type": "stream",
       "stream": "stdout",
       "text": [
        "Current bookmarks:\n",
        "acs  -> /Users/yoavfreund/projects/census_data/acs\n",
        "this -> /Users/yoavfreund/academic.papers/Courses/DSE100/notebooks\n"
       ]
      }
     ],
     "prompt_number": 6
    },
    {
     "cell_type": "markdown",
     "metadata": {},
     "source": [
      "## Wildcards and glob"
     ]
    },
    {
     "cell_type": "code",
     "collapsed": false,
     "input": [],
     "language": "python",
     "metadata": {},
     "outputs": []
    },
    {
     "cell_type": "markdown",
     "metadata": {},
     "source": [
      "## Loading and saving files\n",
      "\n",
      "It is often useful to have a peek at the content of files.\n",
      "To do we have the unix commands `head` and `tail` and the magic command `%load`\n"
     ]
    },
    {
     "cell_type": "code",
     "collapsed": false,
     "input": [
      "!ls"
     ],
     "language": "python",
     "metadata": {},
     "outputs": [
      {
       "output_type": "stream",
       "stream": "stdout",
       "text": [
        "\u001b[34mDir1\u001b[m\u001b[m                          PregnancyLengthAnalysis.ipynb Unix and tools.ipynb\r\n",
        "Numpy and Cython.ipynb        PythonBasicDataTypes.ipynb\r\n"
       ]
      }
     ],
     "prompt_number": 19
    },
    {
     "cell_type": "markdown",
     "metadata": {},
     "source": [
      "## Processes"
     ]
    },
    {
     "cell_type": "code",
     "collapsed": false,
     "input": [
      "%cd ../data/\n",
      "!ls"
     ],
     "language": "python",
     "metadata": {},
     "outputs": [
      {
       "output_type": "stream",
       "stream": "stdout",
       "text": [
        "/Users/yoavfreund/academic.papers/Courses/DSE100/data\n",
        "\u001b[34mThinkStatsData\u001b[m\u001b[m\r\n"
       ]
      }
     ],
     "prompt_number": 20
    },
    {
     "cell_type": "markdown",
     "metadata": {},
     "source": [
      "## Pipes"
     ]
    },
    {
     "cell_type": "code",
     "collapsed": false,
     "input": [],
     "language": "python",
     "metadata": {},
     "outputs": []
    },
    {
     "cell_type": "markdown",
     "metadata": {},
     "source": [
      "## Interacting with external programs through pipes"
     ]
    },
    {
     "cell_type": "code",
     "collapsed": false,
     "input": [],
     "language": "python",
     "metadata": {},
     "outputs": []
    },
    {
     "cell_type": "markdown",
     "metadata": {},
     "source": [
      "## Excercises\n",
      "\n",
      "1. Combine the files in XXX to create a single text file."
     ]
    },
    {
     "cell_type": "code",
     "collapsed": false,
     "input": [],
     "language": "python",
     "metadata": {},
     "outputs": []
    }
   ],
   "metadata": {}
  }
 ]
}