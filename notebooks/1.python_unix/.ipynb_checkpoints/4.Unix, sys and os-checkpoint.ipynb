{
 "metadata": {
  "name": "",
  "signature": "sha256:235838041ceadfe474bd9c9d90542c7fa8334cdd398a23f79497954511368b58"
 },
 "nbformat": 3,
 "nbformat_minor": 0,
 "worksheets": [
  {
   "cells": [
    {
     "cell_type": "markdown",
     "metadata": {},
     "source": [
      "## The unix system\n",
      "\n",
      "* Prepending commands with !\n",
      "* Files, directories and paths\n",
      "* AWS, virtual machines and AMI's\n",
      "* Bash scripts (just to know what they are)\n",
      "* grep, wc, sort\n",
      "* .bashrc, environmental variables, paths."
     ]
    },
    {
     "cell_type": "code",
     "collapsed": false,
     "input": [],
     "language": "python",
     "metadata": {},
     "outputs": []
    },
    {
     "cell_type": "markdown",
     "metadata": {},
     "source": [
      "## listing files\n",
      "* The `ls` command lists the files in the current directory\n",
      "* `ls -F` identifies each files as directory, executable, text\n",
      "* `ls -lrta`: \n",
      "    * `l` (long) lists extensive information about each file\n",
      "    * `rt` (reverse time): list files in reverse order in time.\n",
      "    * `a` show hidden files (whose names start with .)"
     ]
    },
    {
     "cell_type": "code",
     "collapsed": false,
     "input": [
      "%cd ~\n",
      "!ls"
     ],
     "language": "python",
     "metadata": {},
     "outputs": []
    },
    {
     "cell_type": "code",
     "collapsed": false,
     "input": [
      "!ls -F"
     ],
     "language": "python",
     "metadata": {},
     "outputs": []
    },
    {
     "cell_type": "code",
     "collapsed": false,
     "input": [
      "!ls -lrta"
     ],
     "language": "python",
     "metadata": {},
     "outputs": []
    },
    {
     "cell_type": "code",
     "collapsed": false,
     "input": [
      "## Find out type of file\n",
      "!file anaconda/bin/*"
     ],
     "language": "python",
     "metadata": {},
     "outputs": []
    },
    {
     "cell_type": "markdown",
     "metadata": {},
     "source": [
      "## Navigating file paths"
     ]
    },
    {
     "cell_type": "code",
     "collapsed": false,
     "input": [
      "# pwd identifies the current working directory\n",
      "!pwd"
     ],
     "language": "python",
     "metadata": {},
     "outputs": []
    },
    {
     "cell_type": "code",
     "collapsed": false,
     "input": [
      "# /home/ubuntu is the home directory of the user \"ubuntu\" that is - you!\n",
      "!ls -lrt /home/ubuntu"
     ],
     "language": "python",
     "metadata": {},
     "outputs": []
    },
    {
     "cell_type": "code",
     "collapsed": false,
     "input": [
      "# A shorthand for the home directory of the current user is \"~\"\n",
      "%cd ~"
     ],
     "language": "python",
     "metadata": {},
     "outputs": []
    },
    {
     "cell_type": "code",
     "collapsed": false,
     "input": [
      "# !cd causes unix to move to a different directory, but leaves python behind\n",
      "!cd ~/logs/\n",
      "!pwd"
     ],
     "language": "python",
     "metadata": {},
     "outputs": []
    },
    {
     "cell_type": "code",
     "collapsed": false,
     "input": [
      "# To actually change the directory use the magic %cd, which actually moves us and reports where we landed\n",
      "%cd ~/logs/"
     ],
     "language": "python",
     "metadata": {},
     "outputs": []
    },
    {
     "cell_type": "markdown",
     "metadata": {},
     "source": [
      "Some useful shorthands for navigating directories\n",
      "* **~** home directory of current user\n",
      "* **~john** home directory of the user \"john\"\n",
      "* **.** the current directory\n",
      "* **..** the parent directory of the current directory.\n"
     ]
    },
    {
     "cell_type": "code",
     "collapsed": false,
     "input": [
      "%cd ~/data\n",
      "print \"!ls -F\"\n",
      "!ls -F\n",
      "print \"!ls ../\"\n",
      "!ls ../"
     ],
     "language": "python",
     "metadata": {},
     "outputs": []
    },
    {
     "cell_type": "markdown",
     "metadata": {},
     "source": [
      "### Symbolic links"
     ]
    },
    {
     "cell_type": "code",
     "collapsed": false,
     "input": [
      "# \"scripts\" and \"data\" are not actual directories, rather they are symbolic links to directories\n",
      "%cd ~/data/\n",
      "!ls *"
     ],
     "language": "python",
     "metadata": {},
     "outputs": []
    },
    {
     "cell_type": "code",
     "collapsed": false,
     "input": [
      "# Symbolic links are created by the command \"ln -s\" \n",
      "# Here we create a link from the home directory to the directory DSE200/data/NLTK/Chopped\n",
      "%cd ~\n",
      "!ln -s DSE200/data/NLTK/Chopped minced\n",
      "!ls -l minced\n",
      "# the unix command \"cat\" prints out the contents of a file.\n",
      "!cat minced/F0"
     ],
     "language": "python",
     "metadata": {},
     "outputs": []
    },
    {
     "cell_type": "markdown",
     "metadata": {},
     "source": [
      "### Creating files and directories"
     ]
    },
    {
     "cell_type": "code",
     "collapsed": false,
     "input": [
      "# to create a directory, use `mkdir`\n",
      "!mkdir ~/tmp\n",
      "%cd ~/tmp"
     ],
     "language": "python",
     "metadata": {},
     "outputs": []
    },
    {
     "cell_type": "code",
     "collapsed": false,
     "input": [
      "# to create a file or update the time-stamp of the file use `touch`\n",
      "for i in range(10):\n",
      "    !touch file$i\n",
      "!ls -l"
     ],
     "language": "python",
     "metadata": {},
     "outputs": []
    },
    {
     "cell_type": "markdown",
     "metadata": {},
     "source": [
      "### Moving and copying files"
     ]
    },
    {
     "cell_type": "code",
     "collapsed": false,
     "input": [
      "%cd ~/DSE200/data/NLTK/Chopped/\n",
      "!ls"
     ],
     "language": "python",
     "metadata": {},
     "outputs": []
    },
    {
     "cell_type": "code",
     "collapsed": false,
     "input": [
      "# cp copies a file to a new location, maintaining the original copy\n",
      "!mkdir tmp\n",
      "!cp F87 tmp   # copy a file to a new location, maintaining the name\n",
      "!cp F87 tmp/newname # copy a file to a new location + name\n",
      "!ls -l F87 tmp"
     ],
     "language": "python",
     "metadata": {},
     "outputs": []
    },
    {
     "cell_type": "code",
     "collapsed": false,
     "input": [
      "# you can also copy a whole directory and all it's subdirectories\n",
      "!cp -r tmp newtmp"
     ],
     "language": "python",
     "metadata": {},
     "outputs": []
    },
    {
     "cell_type": "code",
     "collapsed": false,
     "input": [
      "# mv moves a file, or a whole directory, to a new location or a new name.\n",
      "# it just manipulates pointers, so it is much faster than copy. (similar to \n",
      "# the difference between deep and shallow copy in python)\n",
      "!mv newtmp tmp # move directory to a new location\n",
      "!ls tmp/*"
     ],
     "language": "python",
     "metadata": {},
     "outputs": []
    },
    {
     "cell_type": "code",
     "collapsed": false,
     "input": [
      "# mv file or directory to a new name (=rename)\n",
      "!mv tmp/newname tmp/newername\n",
      "!ls tmp/*"
     ],
     "language": "python",
     "metadata": {},
     "outputs": []
    },
    {
     "cell_type": "code",
     "collapsed": false,
     "input": [
      "#cleanup\n",
      "!rm -r tmp"
     ],
     "language": "python",
     "metadata": {},
     "outputs": []
    },
    {
     "cell_type": "markdown",
     "metadata": {},
     "source": [
      "### Removing files and directories"
     ]
    },
    {
     "cell_type": "code",
     "collapsed": false,
     "input": [
      "# to remove a file use the command `rm`\n",
      "for i in range(1,10,2):\n",
      "    !rm file$i\n",
      "!ls -l"
     ],
     "language": "python",
     "metadata": {},
     "outputs": []
    },
    {
     "cell_type": "code",
     "collapsed": false,
     "input": [
      "# to remove an empry directory, use 'rmdir'\n",
      "# If you want to remove a directory and everything that is in it use `rm -rf`. Note that this\n",
      "# is an irreversible action, it is NOT like moving a file to the trash bin.\n",
      "%cd ~\n",
      "!rm -rf tmp\n",
      "!ls -l tmp"
     ],
     "language": "python",
     "metadata": {},
     "outputs": []
    },
    {
     "cell_type": "markdown",
     "metadata": {},
     "source": [
      "## manual pages"
     ]
    },
    {
     "cell_type": "code",
     "collapsed": false,
     "input": [
      "%man ls"
     ],
     "language": "python",
     "metadata": {},
     "outputs": []
    },
    {
     "cell_type": "markdown",
     "metadata": {},
     "source": [
      "## Exploring the computer"
     ]
    },
    {
     "cell_type": "code",
     "collapsed": false,
     "input": [
      "# Find out which version of Ubuntu you are running \n",
      "!lsb_release -a"
     ],
     "language": "python",
     "metadata": {},
     "outputs": []
    },
    {
     "cell_type": "code",
     "collapsed": false,
     "input": [
      "# find out about the hardware\n",
      "!cat /proc/cpuinfo"
     ],
     "language": "python",
     "metadata": {},
     "outputs": []
    },
    {
     "cell_type": "code",
     "collapsed": false,
     "input": [
      "# find out how much memory you are using\n",
      "!free -m"
     ],
     "language": "python",
     "metadata": {},
     "outputs": []
    },
    {
     "cell_type": "code",
     "collapsed": false,
     "input": [
      "# find out how much disk space you are using\n",
      "!df"
     ],
     "language": "python",
     "metadata": {},
     "outputs": []
    },
    {
     "cell_type": "code",
     "collapsed": false,
     "input": [
      "#find out which directories consume most of this disk space\n",
      "%cd ~\n",
      "!du -s *"
     ],
     "language": "python",
     "metadata": {},
     "outputs": []
    },
    {
     "cell_type": "code",
     "collapsed": false,
     "input": [
      "# based on what we see here, we check the directory anaconda\n",
      "!du -s anaconda/*"
     ],
     "language": "python",
     "metadata": {},
     "outputs": []
    },
    {
     "cell_type": "markdown",
     "metadata": {},
     "source": [
      "## analyzing data\n",
      "head, tail, more, grep, wc, sort, cut (awk)"
     ]
    },
    {
     "cell_type": "code",
     "collapsed": false,
     "input": [
      "%cd ~/DSE200/data/ThinkStatsData/\n",
      "!ls"
     ],
     "language": "python",
     "metadata": {},
     "outputs": []
    },
    {
     "cell_type": "code",
     "collapsed": false,
     "input": [
      "# print the number of lines, words and characters in each file\n",
      "!wc *"
     ],
     "language": "python",
     "metadata": {},
     "outputs": []
    },
    {
     "cell_type": "code",
     "collapsed": false,
     "input": [
      "# print the first 2 lines of a file\n",
      "!head -2 2002FemPreg.dat"
     ],
     "language": "python",
     "metadata": {},
     "outputs": []
    },
    {
     "cell_type": "code",
     "collapsed": false,
     "input": [
      "## This list of tuples defines the names and locations of the elements.\n",
      "fields=[\n",
      "    ('caseid', 1, 12, int),\n",
      "    ('nbrnaliv', 22, 22, int),\n",
      "    ('babysex', 56, 56, int),\n",
      "    ('birthwgt_lb', 57, 58, int),\n",
      "    ('birthwgt_oz', 59, 60, int),\n",
      "    ('prglength', 275, 276, int),\n",
      "    ('outcome', 277, 277, int),\n",
      "    ('birthord', 278, 279, int),\n",
      "    ('agepreg', 284, 287, int),\n",
      "    ('finalwgt', 423, 440, float),\n",
      "]"
     ],
     "language": "python",
     "metadata": {},
     "outputs": []
    },
    {
     "cell_type": "code",
     "collapsed": false,
     "input": [
      "## Lets transform it into a dictionary whose keys are the names of the field\n",
      "fields_dict={name:(f,t,typ) for (name,f,t,typ) in fields}\n",
      "fields_dict"
     ],
     "language": "python",
     "metadata": {},
     "outputs": []
    },
    {
     "cell_type": "code",
     "collapsed": false,
     "input": [
      "# print the lines that contain a particular string\n",
      "string='3116'\n",
      "!grep $string 2002FemPreg.dat"
     ],
     "language": "python",
     "metadata": {},
     "outputs": []
    },
    {
     "cell_type": "code",
     "collapsed": false,
     "input": [
      "#suppose we just want to know how many lines have this string inside them.\n",
      "# this is our first use of pipes\n",
      "#the output from grep serves as the input to wc\n",
      "!wc 2002FemPreg.dat\n",
      "!grep $string 2002FemPreg.dat | wc"
     ],
     "language": "python",
     "metadata": {},
     "outputs": []
    },
    {
     "cell_type": "code",
     "collapsed": false,
     "input": [
      "#cut is a command that cuts specific fields from from each line \n",
      "%man cut"
     ],
     "language": "python",
     "metadata": {},
     "outputs": []
    },
    {
     "cell_type": "code",
     "collapsed": false,
     "input": [
      "# Extract from each line a specific field\n",
      "field='babysex'\n",
      "(fr,to,typ)=fields_dict[field]\n",
      "Range=str(fr-1)+'-'+str(to)\n",
      "print field,fr,to,Range\n",
      "!cut -c $Range 2002FemPreg.dat | head -5"
     ],
     "language": "python",
     "metadata": {},
     "outputs": []
    },
    {
     "cell_type": "code",
     "collapsed": false,
     "input": [
      "# lets sort these lines numerically, and look at the end, also known as the tail\n",
      "!cut -c $Range 2002FemPreg.dat | sort -n | tail"
     ],
     "language": "python",
     "metadata": {},
     "outputs": []
    },
    {
     "cell_type": "code",
     "collapsed": false,
     "input": [
      "#count the number of times each value appears using uniq\n",
      "!cut -c $Range 2002FemPreg.dat | sort -n | uniq -c"
     ],
     "language": "python",
     "metadata": {},
     "outputs": []
    },
    {
     "cell_type": "code",
     "collapsed": false,
     "input": [
      "# do the same thing but using an intermediary file\n",
      "!cut -c $Range 2002FemPreg.dat > cut$Range\n",
      "print 'head of cut',Range\n",
      "!head cut$Range\n",
      "!ls\n",
      "print 'output from uniq'\n",
      "!cat cut$Range | sort -n | uniq -c"
     ],
     "language": "python",
     "metadata": {},
     "outputs": []
    },
    {
     "cell_type": "markdown",
     "metadata": {},
     "source": [
      "## Environment variables\n",
      "\n",
      "Environment variables are strings that define the set up of the session. Environment variables allow the user to avoid\n",
      "retyping the same parameters over and over."
     ]
    },
    {
     "cell_type": "code",
     "collapsed": false,
     "input": [
      "#view all of the currently defined environment variable\n",
      "%env"
     ],
     "language": "python",
     "metadata": {},
     "outputs": []
    },
    {
     "cell_type": "code",
     "collapsed": false,
     "input": [
      "#view the valuse of a particular variables \n",
      "!echo $HOME $USER"
     ],
     "language": "python",
     "metadata": {},
     "outputs": []
    },
    {
     "cell_type": "code",
     "collapsed": false,
     "input": [
      "#The $ symbol is required as a prefix of the variable names\n",
      "#When used inside ipython, this $ can be used to refer to any currently defined variable\n",
      "i=25\n",
      "!echo $i"
     ],
     "language": "python",
     "metadata": {},
     "outputs": []
    },
    {
     "cell_type": "code",
     "collapsed": false,
     "input": [
      "#Particularly important are environment variables called \"paths\"\n",
      "!env | grep -i path"
     ],
     "language": "python",
     "metadata": {},
     "outputs": []
    },
    {
     "cell_type": "code",
     "collapsed": false,
     "input": [
      "# The path defines where the system will look for commands and in what order.\n",
      "# PATH tells the unix shell (bash) where to find the executables corresponding to commands\n",
      "# while PYTHONPATH tells python from where to `import` packages.\n",
      "# lets see where unix finds the command \"sort\"\n",
      "!which sort\n",
      "# Check on the variable PATH and you will see that /usr/bin is on it."
     ],
     "language": "python",
     "metadata": {},
     "outputs": []
    },
    {
     "cell_type": "code",
     "collapsed": false,
     "input": [
      "# You can also find all of the places along the path that have a definition relevant to sort\n",
      "!whereis sort\n",
      "# The last one is the manual page for sort which you can view using the command %man sort"
     ],
     "language": "python",
     "metadata": {},
     "outputs": []
    },
    {
     "cell_type": "markdown",
     "metadata": {},
     "source": [
      "#### Excercise \n",
      "find where the location of the commands `python`,`ipython` and `mail`"
     ]
    },
    {
     "cell_type": "code",
     "collapsed": false,
     "input": [
      "!which python"
     ],
     "language": "python",
     "metadata": {},
     "outputs": []
    },
    {
     "cell_type": "markdown",
     "metadata": {},
     "source": [
      "## Wildcards and glob"
     ]
    },
    {
     "cell_type": "code",
     "collapsed": false,
     "input": [],
     "language": "python",
     "metadata": {},
     "outputs": []
    },
    {
     "cell_type": "markdown",
     "metadata": {},
     "source": [
      "## Loading and saving files\n",
      "\n",
      "It is often useful to load short files into the notebook, alter them, and save them back into the file system. The magics `%load` and `%%writefile` are used to do that.\n"
     ]
    },
    {
     "cell_type": "code",
     "collapsed": false,
     "input": [
      "!ls"
     ],
     "language": "python",
     "metadata": {},
     "outputs": [
      {
       "output_type": "stream",
       "stream": "stdout",
       "text": [
        "2002FemPreg.dat  2002FemResp.dat  2002Male.dat\tsurvey.pl\r\n"
       ]
      }
     ],
     "prompt_number": 31
    },
    {
     "cell_type": "code",
     "collapsed": false,
     "input": [
      "# the magic %load, unlike using !cat, creates a new cell that can be executed inside the notebook\n",
      "%load survey.pl"
     ],
     "language": "python",
     "metadata": {},
     "outputs": [],
     "prompt_number": 30
    },
    {
     "cell_type": "markdown",
     "metadata": {},
     "source": [
      "## Processes\n",
      "\n",
      "A process is a sequence of commands that are executed in sequence, one after the other.\n",
      "By using \"time sharing\" a single CPU can compute many processes at the same time, frequently switching from one process to the next. In a multi-core machine, there are several CPUs and so even more processes can execute at the same time."
     ]
    },
    {
     "cell_type": "code",
     "collapsed": false,
     "input": [
      "# You can find out the current processes on your system using the command \"top\"\n",
      "# without flags, the command will open a window that will constantly update and that also\n",
      "# allows you to quit (or kill) processes. Here we use the flags to specify that top should only run once.\n",
      "!top -b -n 1"
     ],
     "language": "python",
     "metadata": {},
     "outputs": [
      {
       "output_type": "stream",
       "stream": "stdout",
       "text": [
        "top - 05:41:51 up 59 min,  1 user,  load average: 0.00, 0.01, 0.05\r\n",
        "Tasks:  64 total,   1 running,  63 sleeping,   0 stopped,   0 zombie\r\n",
        "Cpu(s):  0.4%us,  0.3%sy,  0.1%ni, 96.6%id,  2.5%wa,  0.0%hi,  0.0%si,  0.1%st\r\n",
        "Mem:    604376k total,   593392k used,    10984k free,    20632k buffers\r\n",
        "Swap:        0k total,        0k used,        0k free,   301412k cached\r\n",
        "\r\n",
        "  PID USER      PR  NI  VIRT  RES  SHR S %CPU %MEM    TIME+  COMMAND            \r\n",
        "    1 root      20   0 24336 2304 1348 S  0.0  0.4   0:00.39 init               \r\n",
        "    2 root      20   0     0    0    0 S  0.0  0.0   0:00.00 kthreadd           \r\n",
        "    3 root      20   0     0    0    0 S  0.0  0.0   0:00.03 ksoftirqd/0        \r\n",
        "    4 root      20   0     0    0    0 S  0.0  0.0   0:00.00 kworker/0:0        \r\n",
        "    5 root      20   0     0    0    0 S  0.0  0.0   0:00.01 kworker/u:0        \r\n",
        "    6 root      RT   0     0    0    0 S  0.0  0.0   0:00.00 migration/0        \r\n",
        "    7 root      RT   0     0    0    0 S  0.0  0.0   0:00.02 watchdog/0         \r\n",
        "    8 root       0 -20     0    0    0 S  0.0  0.0   0:00.00 cpuset             \r\n",
        "    9 root       0 -20     0    0    0 S  0.0  0.0   0:00.00 khelper            \r\n",
        "   10 root      20   0     0    0    0 S  0.0  0.0   0:00.00 kdevtmpfs          \r\n",
        "   11 root       0 -20     0    0    0 S  0.0  0.0   0:00.00 netns              \r\n",
        "   12 root      20   0     0    0    0 S  0.0  0.0   0:00.08 xenwatch           \r\n",
        "   13 root      20   0     0    0    0 S  0.0  0.0   0:00.00 xenbus             \r\n",
        "   14 root      20   0     0    0    0 S  0.0  0.0   0:00.01 sync_supers        \r\n",
        "   15 root      20   0     0    0    0 S  0.0  0.0   0:00.00 bdi-default        \r\n",
        "   16 root       0 -20     0    0    0 S  0.0  0.0   0:00.00 kintegrityd        \r\n",
        "   17 root       0 -20     0    0    0 S  0.0  0.0   0:00.00 kblockd            \r\n"
       ]
      }
     ],
     "prompt_number": 36
    },
    {
     "cell_type": "markdown",
     "metadata": {},
     "source": [
      "## Pipes\n",
      "We used pipes above to communicate between two or more unix commands.\n",
      "We now discuss this in more detail.\n",
      "\n",
      "Unix processes have three default input and output channels\n",
      "* **stdin** the standard input channel - by default - the keyboard\n",
      "* **stdout** the standard output channel - by default - the terminal.\n",
      "* **stderr** the standard error channel - by default - the terminal.\n",
      "\n",
      "Channels can be used to connect programs to each other and to connect programs and files. This is called **I/O redirection**.\n",
      "\n",
      "Connecting a standard channel to files is done using the following symbols\n",
      "(in bash, which is the standard shell in both ubuntu and os-x).\n",
      "\n",
      "| command      | result |\n",
      "|--------------|-----------------------------------------------------|\n",
      "| < filename   | Redirect stdin to read from the file \"filename\" |\n",
      "| > filename  | Redirect stdout to file \"filename.\" |\n",
      "| >>filename  | Redirect and append stdout to file \"filename.\" |\n",
      "| 1>filename   | Redirect stdout to file \"filename.\" |\n",
      "| 1>>filename  | Redirect and append stdout to file \"filename.\" |\n",
      "| 2>filename   | Redirect stderr to file \"filename.\" |\n",
      "| 2>>filename  | Redirect and append stderr to file \"filename.\" |\n",
      "| &>filename   | Redirect both stdout and stderr to file \"filename.\" |\n"
     ]
    },
    {
     "cell_type": "code",
     "collapsed": false,
     "input": [
      "# One of the most basic unix command is cat\n",
      "%cd ~\n",
      "!cat < .bash_logout"
     ],
     "language": "python",
     "metadata": {},
     "outputs": [
      {
       "output_type": "stream",
       "stream": "stdout",
       "text": [
        "/home/ubuntu\n",
        "# ~/.bash_logout: executed by bash(1) when login shell exits.\r\n",
        "\r\n",
        "# when leaving the console clear the screen to increase privacy\r\n",
        "\r\n",
        "if [ \"$SHLVL\" = 1 ]; then\r\n",
        "    [ -x /usr/bin/clear_console ] && /usr/bin/clear_console -q\r\n",
        "fi\r\n"
       ]
      }
     ],
     "prompt_number": 38
    },
    {
     "cell_type": "code",
     "collapsed": false,
     "input": [
      "# echo is another basic command, it pipes the string it gets as a parameter to std-out\n",
      "# To create a file with some specific line we can use\n",
      "!echo \"MAS-DSE is the best\" | cat > \"MAS-FILE\"\n",
      "!ls MAS*\n",
      "!cat MAS-FILE\n",
      "!rm MAS-FILE"
     ],
     "language": "python",
     "metadata": {},
     "outputs": [
      {
       "output_type": "stream",
       "stream": "stdout",
       "text": [
        "MAS-FILE\r\n"
       ]
      },
      {
       "output_type": "stream",
       "stream": "stdout",
       "text": [
        "MAS-DSE is the best\r\n"
       ]
      }
     ],
     "prompt_number": 43
    },
    {
     "cell_type": "markdown",
     "metadata": {},
     "source": [
      "## Interacting with external programs through pipes"
     ]
    },
    {
     "cell_type": "code",
     "collapsed": false,
     "input": [
      "# to be completed\n",
      "import subprocess\n",
      "subprocess.Popen?\n"
     ],
     "language": "python",
     "metadata": {},
     "outputs": [],
     "prompt_number": 45
    },
    {
     "cell_type": "code",
     "collapsed": false,
     "input": [],
     "language": "python",
     "metadata": {},
     "outputs": []
    }
   ],
   "metadata": {}
  }
 ]
}