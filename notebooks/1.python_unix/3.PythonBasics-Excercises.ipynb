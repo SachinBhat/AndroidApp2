{
 "metadata": {
  "name": "",
  "signature": "sha256:deff9d36a256521acf1006445657713eeb83337fb7ba1385e0a14fb180326e8e"
 },
 "nbformat": 3,
 "nbformat_minor": 0,
 "worksheets": [
  {
   "cells": [
    {
     "cell_type": "markdown",
     "metadata": {},
     "source": [
      "### Excercises"
     ]
    },
    {
     "cell_type": "code",
     "collapsed": false,
     "input": [
      "# (1) Compute the average of a list of numbers. use list comprehension.\n",
      "L=[23,32,121,22,1222.23,5]"
     ],
     "language": "python",
     "metadata": {},
     "outputs": []
    },
    {
     "cell_type": "code",
     "collapsed": false,
     "input": [
      "# (2) Compute the number of times each word occurs in the following text.\n",
      "# Transform all words to lower case. Output a list of\n",
      "#  word,count pairs, one pair per line sorted from highest to lowest count.\n",
      "\n",
      "Text=\"\"\"\n",
      "bands which have connected them with another, and to assume among the\n",
      "powers of the earth, the separate and equal station to which the Laws\n",
      "of Nature and of Nature's God entitle them, a decent respect to the\n",
      "opinions of mankind requires that they should declare the causes which\n",
      "impel them to the separation.  We hold these truths to be\n",
      "self-evident, that all men are created equal, that they are endowed by\n",
      "their Creator with certain unalienable Rights, that among these are\n",
      "Life, Liberty and the pursuit of Happiness.--That to secure these\n",
      "rights, Governments are instituted among Men, deriving their just\n",
      "powers from the consent of the governed, --That whenever any Form of\n",
      "Government becomes destructive of these ends, it is the Right of the\n",
      "People to alter or to abolish it, and to institute new Government,\n",
      "laying its foundation on such principles and organizing its powers in\n",
      "such form, as to them shall seem most likely to effect their Safety\n",
      "and Happiness. Prudence, indeed, will dictate that Governments long\n",
      "established should not be changed for light and transient causes; and\n",
      "accordingly all experience hath shewn, that mankind are more disposed\n",
      "to suffer, while evils are sufferable, than to right themselves by\n",
      "abolishing the forms to which they are accustomed. But when a long\n",
      "train of abuses and usurpations, pursuing invariably the same Object\n",
      "evinces a design to reduce them under absolute Despotism, it is their\n",
      "right, it is their duty, to throw off such Government, and to provide\n",
      "new Guards for their future security.--Such has been the patient\n",
      "sufferance of these Colonies; and such is now the necessity which\n",
      "constrains them to alter their former Systems of Government. The\n",
      "history of the present King of Great Britain is a history of repeated\n",
      "injuries and usurpations, all having in direct object the\n",
      "establishment of an absolute Tyranny over these States. To prove this,\n",
      "let Facts be submitted to a candid world.\n",
      "\"\"\"\n",
      "\n",
      "# First, we replace the punctuations marks with spaces\n",
      "for char in '-.,':\n",
      "    Text=Text.replace(char,' ')\n"
     ],
     "language": "python",
     "metadata": {},
     "outputs": []
    },
    {
     "cell_type": "code",
     "collapsed": false,
     "input": [
      "#For the list l =  [ 6, -5, 3, -2, 0, 8, -9, -7 ], return the numbers which are greater than the average of the numbers"
     ],
     "language": "python",
     "metadata": {},
     "outputs": []
    },
    {
     "cell_type": "code",
     "collapsed": true,
     "input": [
      "#for the tuples (2, 5, 3, 7, 10, 20, 54, 89) and (15, 16, 3, 37, 54, 21, 20, 5) return a sorted tuple that contains\n",
      "#only the elements common to both the tuples"
     ],
     "language": "python",
     "metadata": {},
     "outputs": []
    },
    {
     "cell_type": "code",
     "collapsed": false,
     "input": [
      "#calculate the average word length for the text\n",
      "TEXT = \"\"\"\n",
      "On a dark desert highway, cool wind in my hair\n",
      "Warm smell of colitas, rising up through the air\n",
      "Up ahead in the distance, I saw a shimmering light\n",
      "My head grew heavy and my sight grew dim\n",
      "I had to stop for the night\n",
      "There she stood in the doorway;\n",
      "I heard the mission bell\n",
      "And I was thinking to myself,\n",
      "\"This could be Heaven or this could be Hell\"\n",
      "Then she lit up a candle and she showed me the way\n",
      "\"\"\"\n",
      "#Average word length is the sum of all the lengths of the word tokens in the text, divided by the number of word tokens\n",
      "\n",
      "#Also save the above text in a commma separated file with one cell having only one word\n",
      "#and row n having only the words from line n of the above text"
     ],
     "language": "python",
     "metadata": {},
     "outputs": []
    },
    {
     "cell_type": "code",
     "collapsed": false,
     "input": [
      "#Read the first line from the above separated csv file and return a dictionary of (letter:count) pair\n",
      "#that counts the number of times each letter appears in that line."
     ],
     "language": "python",
     "metadata": {},
     "outputs": []
    },
    {
     "cell_type": "code",
     "collapsed": false,
     "input": [
      "#Take as an input a user specified array of integers, and return true if the array contains a 5 immediately after another 5 \n",
      "#somewhere."
     ],
     "language": "python",
     "metadata": {},
     "outputs": []
    },
    {
     "cell_type": "code",
     "collapsed": false,
     "input": [
      "#Write  a function addNumbers(num) that takes in a positive number as argument and returns the sum of all the number\n",
      "#between 0 and that number (inclusive)."
     ],
     "language": "python",
     "metadata": {},
     "outputs": []
    },
    {
     "cell_type": "code",
     "collapsed": false,
     "input": [
      "#Using lists, return the transpose of the matrix \n",
      "#(The transpose of a matrix A can be obtained by reflecting the elements along its main diagonal(top left to bottom right))\n",
      "M = [(1,2,3)\n",
      "     (11,12,13)\n",
      "     (21,22,23)]\n"
     ],
     "language": "python",
     "metadata": {},
     "outputs": []
    },
    {
     "cell_type": "code",
     "collapsed": false,
     "input": [
      "Let A = [(23, 46, 69)\n",
      "         (30, 50, 70)\n",
      "         (16, 32, 48)]\n",
      "and\n",
      "    B = [(2, 5, 7)\n",
      "         (8, 11, 13)\n",
      "         (14, 17, 19)]\n",
      "\n",
      "#Extract the 2x2 matrix in the bottom right corner of the matrix M. Also extract the 2x2 top left corner matrix \n",
      "#from matrix A. Add the two matrices and multiply them with matrix B. and insert this final result in the upper left corner\n",
      "#of the original matrix M"
     ],
     "language": "python",
     "metadata": {},
     "outputs": []
    }
   ],
   "metadata": {}
  }
 ]
}