{
 "metadata": {
  "name": "",
<<<<<<< HEAD
  "signature": "sha256:8b6c1e80e9af10f21694bbc5b6a392bfa7066de4ec330c5da6305254b55b9610"
=======
  "signature": "sha256:824ada05020302290a19777cfc30e596244fdbecc0ab830ceb6a725962d32380"
>>>>>>> 8517d9140351a3db080d91f37168d6c62055a3ff
 },
 "nbformat": 3,
 "nbformat_minor": 0,
 "worksheets": [
  {
   "cells": [
    {
     "cell_type": "markdown",
     "metadata": {},
     "source": [
      "### Excercises"
     ]
    },
    {
     "cell_type": "markdown",
     "metadata": {},
     "source": [
      "#### Exercise 1\n",
      "\n",
      "Use list comprehensions to compute the average of the list *L* given below.  Then return a list containing only elements of L which are greater than the average."
     ]
    },
    {
     "cell_type": "code",
     "collapsed": false,
     "input": [
      "L=[23,32,121,22,1222.23,5]"
     ],
     "language": "python",
     "metadata": {},
     "outputs": []
    },
    {
     "cell_type": "code",
     "collapsed": false,
     "input": [
      "#Answer goes here, feel free to create additional cells if needed."
     ],
     "language": "python",
     "metadata": {},
     "outputs": [],
     "prompt_number": 1
    },
    {
     "cell_type": "markdown",
     "metadata": {},
     "source": [
      "#### Exercise 2\n",
      "Compute the number of times each word occurs in the given text.\n",
      "Treat words the same regardless of their case (IE There is the same as there).\n",
      "Split on one or more non alphabetical (a-z) characters.\n",
      "\n",
      "Give three results:\n",
      "  1. A dictionary mapping from word to frequency.\n",
      "  2. A list of all words that occur exactly 2 times.\n",
      "  3. A list of the top 10 most common words, sorted by frequncy in a decending manner."
     ]
    },
    {
     "cell_type": "code",
     "collapsed": false,
     "input": [
      "text=\"\"\"\n",
      "bands which have connected them with another, and to assume among the\n",
      "powers of the earth, the separate and equal station to which the Laws\n",
      "of Nature and of Nature's God entitle them, a decent respect to the\n",
      "opinions of mankind requires that they should declare the causes which\n",
      "impel them to the separation.  We hold these truths to be\n",
      "self-evident, that all men are created equal, that they are endowed by\n",
      "their Creator with certain unalienable Rights, that among these are\n",
      "Life, Liberty and the pursuit of Happiness.--That to secure these\n",
      "rights, Governments are instituted among Men, deriving their just\n",
      "powers from the consent of the governed, --That whenever any Form of\n",
      "Government becomes destructive of these ends, it is the Right of the\n",
      "People to alter or to abolish it, and to institute new Government,\n",
      "laying its foundation on such principles and organizing its powers in\n",
      "such form, as to them shall seem most likely to effect their Safety\n",
      "and Happiness. Prudence, indeed, will dictate that Governments long\n",
      "established should not be changed for light and transient causes; and\n",
      "accordingly all experience hath shewn, that mankind are more disposed\n",
      "to suffer, while evils are sufferable, than to right themselves by\n",
      "abolishing the forms to which they are accustomed. But when a long\n",
      "train of abuses and usurpations, pursuing invariably the same Object\n",
      "evinces a design to reduce them under absolute Despotism, it is their\n",
      "right, it is their duty, to throw off such Government, and to provide\n",
      "new Guards for their future security.--Such has been the patient\n",
      "sufferance of these Colonies; and such is now the necessity which\n",
      "constrains them to alter their former Systems of Government. The\n",
      "history of the present King of Great Britain is a history of repeated\n",
      "injuries and usurpations, all having in direct object the\n",
      "establishment of an absolute Tyranny over these States. To prove this,\n",
      "let Facts be submitted to a candid world.\n",
      "\"\"\"\n"
     ],
     "language": "python",
     "metadata": {},
     "outputs": []
    },
    {
     "cell_type": "code",
     "collapsed": false,
     "input": [],
     "language": "python",
     "metadata": {},
     "outputs": []
    },
    {
     "cell_type": "markdown",
     "metadata": {},
     "source": [
      "####Exercise 3\n",
      "Repeat exercise 2 but instead of counting single word frequency count the number of occurances of each bigram, pairs of words that occur next to each other.  \n",
      "\n",
      "For example, in \"The dog runs\", the bigrams (The, dog) and (dog, runs) each occur once."
     ]
    },
    {
     "cell_type": "code",
     "collapsed": false,
     "input": [],
     "language": "python",
     "metadata": {},
     "outputs": []
    },
    {
     "cell_type": "markdown",
     "metadata": {},
     "source": [
      "####Exercise 4\n",
      "For the lists *xs* and *ys*, return a sorted list that contains only elements common to both xs and ys."
     ]
    },
    {
     "cell_type": "code",
     "collapsed": false,
     "input": [
      "xs = [2, 5, 3, 7, 10, 20, 54, 89]\n",
      "ys = [15, 16, 3, 37, 54, 21, 20, 5]"
     ],
     "language": "python",
     "metadata": {},
     "outputs": []
    },
    {
     "cell_type": "code",
     "collapsed": true,
     "input": [],
     "language": "python",
     "metadata": {},
     "outputs": []
    },
    {
     "cell_type": "markdown",
     "metadata": {},
     "source": [
<<<<<<< HEAD
      "X) calculate the average word length for the text\n",
      "\n",
      "> TEXT =\n",
      "> On a dark desert highway, cool wind in my hair\n",
      "> Warm smell of colitas, rising up through the air\n",
      "> Up ahead in the distance, I saw a shimmering light\n",
      "> My head grew heavy and my sight grew dim\n",
      "> I had to stop for the night\n",
      "> There she stood in the doorway;\n",
      "> I heard the mission bell\n",
      "> And I was thinking to myself,\n",
      "> \"This could be Heaven or this could be Hell\"\n",
      "> Then she lit up a candle and she showed me the way\n",
      "> \n",
=======
      "#### Exercise 5\n",
>>>>>>> 8517d9140351a3db080d91f37168d6c62055a3ff
      "\n",
      "Calculate the average word length for the words in *text2*.  Average word length is the sum of all the lengths of the word tokens in the text, divided by the number of word tokens.\n"
     ]
    },
    {
     "cell_type": "code",
     "collapsed": false,
     "input": [
      "text2 = \"\"\"\n",
      "On a dark desert highway, cool wind in my hair\n",
      "Warm smell of colitas, rising up through the air\n",
      "Up ahead in the distance, I saw a shimmering light\n",
      "My head grew heavy and my sight grew dim\n",
      "I had to stop for the night\n",
      "There she stood in the doorway;\n",
      "I heard the mission bell\n",
      "And I was thinking to myself,\n",
      "\"This could be Heaven or this could be Hell\"\n",
      "Then she lit up a candle and she showed me the way\n",
      "\"\"\"\n"
     ],
     "language": "python",
     "metadata": {},
     "outputs": []
    },
    {
     "cell_type": "code",
     "collapsed": false,
     "input": [],
     "language": "python",
     "metadata": {},
     "outputs": []
    },
    {
     "cell_type": "markdown",
     "metadata": {},
     "source": [
<<<<<<< HEAD
      "Using the same text as in the last one, remove all punctuation and output the words in sorted alphabetical order. Save this output as a CSV file with each word separated from the other by the delimiter(comma)."
=======
      "Reusing *text2*, remove all punctuation and output the words in sorted alphabetical order"
>>>>>>> 8517d9140351a3db080d91f37168d6c62055a3ff
     ]
    },
    {
     "cell_type": "code",
     "collapsed": false,
<<<<<<< HEAD
     "input": [
      "#Read the text from the above separated csv file and return a dictionary of (letter:count) pair\n",
      "#that counts the number of times each letter appears in that line."
     ],
=======
     "input": [],
>>>>>>> 8517d9140351a3db080d91f37168d6c62055a3ff
     "language": "python",
     "metadata": {},
     "outputs": []
    },
    {
     "cell_type": "markdown",
     "metadata": {},
     "source": [
      "####Exercise 6\n",
      "\n",
      "Define a function \"repeated5* which takes a list of integers and returns true if the list contains a 5 immediately after another 5.\n",
      "\n",
      "For example after you define your function:  \n",
      "> repeated5([1,5,1,6,5,3,5,2])\n",
      "\n",
      "Returns false\n",
      "\n",
      "> repeated5([1,2,3,4,5,5,6,7,8,9])\n",
      "\n",
      "Returns true"
     ]
    },
    {
     "cell_type": "code",
     "collapsed": false,
     "input": [],
     "language": "python",
     "metadata": {},
     "outputs": []
    },
    {
     "cell_type": "markdown",
     "metadata": {},
     "source": [
      "####Exercise 7\n",
      "Write  a function addNumbers(num) that takes in a positive number as argument and returns the sum of all the number between 0 and that number (inclusive)."
     ]
    },
    {
     "cell_type": "code",
     "collapsed": false,
     "input": [],
     "language": "python",
     "metadata": {},
     "outputs": []
    },
    {
     "cell_type": "markdown",
     "metadata": {},
     "source": [
<<<<<<< HEAD
      "X) for the text in file BrownNews.txt (~/DSE200/data/NLTK/BrownNews.txt), find the distribution of the second letter in each word. "
=======
      "#### Exercise 8\n",
      "For some text (to be included as a file) find the distribution of the first letter in each word, the second letter in each word etc. (suppress items whose probability is lower than some threshold)"
>>>>>>> 8517d9140351a3db080d91f37168d6c62055a3ff
     ]
    },
    {
     "cell_type": "code",
     "collapsed": false,
     "input": [],
     "language": "python",
     "metadata": {},
     "outputs": []
    },
    {
     "cell_type": "markdown",
     "metadata": {},
     "source": [
<<<<<<< HEAD
      "X) write a program to find solutions of the 8 queen problem.\n",
      ">The eight queens problem is the problem of placing eight queens on an 8\u00d78 chessboard such that none of them attack one >another (no two are in the same row, column, or diagonal). Below is one of the arrangements of an 8 queen solution"
=======
      "#### Exercise 9\n",
      "Write a program to find solutions of the 8 queen problem."
>>>>>>> 8517d9140351a3db080d91f37168d6c62055a3ff
     ]
    },
    {
     "cell_type": "code",
     "collapsed": false,
     "input": [],
     "language": "python",
     "metadata": {},
     "outputs": []
    },
    {
     "cell_type": "markdown",
     "metadata": {},
     "source": [
<<<<<<< HEAD
      "<img src=\"8queens.jpg\">"
     ]
    },
    {
     "cell_type": "markdown",
     "metadata": {},
     "source": [
      "X) Write a program to make a list of all prime numbers less than 3000. A prime number can only be divided evenly by 1 and itself."
     ]
    },
    {
     "cell_type": "markdown",
     "metadata": {},
     "source": [
      "X) Solve the above problem using Set instead of List "
=======
      "#### Exercise 10\n",
      "problems with sets ()"
>>>>>>> 8517d9140351a3db080d91f37168d6c62055a3ff
     ]
    },
    {
     "cell_type": "code",
     "collapsed": false,
     "input": [],
     "language": "python",
     "metadata": {},
     "outputs": []
    }
   ],
   "metadata": {}
  }
 ]
}