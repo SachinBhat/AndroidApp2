{
 "metadata": {
  "name": "",
  "signature": "sha256:a0944e543c4406fa1ff44467836aa05db66440700f250f92830137b94a32d85e"
 },
 "nbformat": 3,
 "nbformat_minor": 0,
 "worksheets": [
  {
   "cells": [
    {
     "cell_type": "markdown",
     "metadata": {},
     "source": [
      "## The unix system\n",
      "\n",
      "* Prepending commands with !\n",
      "* Files, directories and paths\n",
      "* AWS, virtual machines and AMI's\n",
      "* Bash scripts (just to know what they are)\n",
      "* grep, wc, sort\n",
      "* .bashrc, environmental variables, paths."
     ]
    },
    {
     "cell_type": "code",
     "collapsed": false,
     "input": [],
     "language": "python",
     "metadata": {},
     "outputs": []
    },
    {
     "cell_type": "markdown",
     "metadata": {},
     "source": [
      "## listing files\n",
      "* The `ls` command lists the files in the current directory\n",
      "* `ls -F` identifies each files as directory, executable, text\n",
      "* `ls -lrta`: \n",
      "    * `l` (long) lists extensive information about each file\n",
      "    * `rt` (reverse time): list files in reverse order in time.\n",
      "    * `a` show hidden files (whose names start with .)"
     ]
    },
    {
     "cell_type": "code",
     "collapsed": false,
     "input": [
      "%cd ~\n",
      "!ls"
     ],
     "language": "python",
     "metadata": {},
     "outputs": []
    },
    {
     "cell_type": "code",
     "collapsed": false,
     "input": [
      "!ls -F"
     ],
     "language": "python",
     "metadata": {},
     "outputs": []
    },
    {
     "cell_type": "code",
     "collapsed": false,
     "input": [
      "!ls -lrta"
     ],
     "language": "python",
     "metadata": {},
     "outputs": []
    },
    {
     "cell_type": "code",
     "collapsed": false,
     "input": [
      "## Find out type of file\n",
      "!file anaconda/bin/*"
     ],
     "language": "python",
     "metadata": {},
     "outputs": []
    },
    {
     "cell_type": "markdown",
     "metadata": {},
     "source": [
      "## Navigating file paths"
     ]
    },
    {
     "cell_type": "code",
     "collapsed": false,
     "input": [
      "# pwd identifies the current working directory\n",
      "!pwd"
     ],
     "language": "python",
     "metadata": {},
     "outputs": []
    },
    {
     "cell_type": "code",
     "collapsed": false,
     "input": [
      "# /home/ubuntu is the home directory of the user \"ubuntu\" that is - you!\n",
      "!ls -lrt /home/ubuntu"
     ],
     "language": "python",
     "metadata": {},
     "outputs": []
    },
    {
     "cell_type": "code",
     "collapsed": false,
     "input": [
      "# A shorthand for the home directory of the current user is \"~\"\n",
      "%cd ~"
     ],
     "language": "python",
     "metadata": {},
     "outputs": []
    },
    {
     "cell_type": "code",
     "collapsed": false,
     "input": [
      "# !cd causes unix to move to a different directory, but leaves python behind\n",
      "!cd ~/logs/\n",
      "!pwd"
     ],
     "language": "python",
     "metadata": {},
     "outputs": []
    },
    {
     "cell_type": "code",
     "collapsed": false,
     "input": [
      "# To actually change the directory use the magic %cd, which actually moves us and reports where we landed\n",
      "%cd ~/logs/"
     ],
     "language": "python",
     "metadata": {},
     "outputs": []
    },
    {
     "cell_type": "markdown",
     "metadata": {},
     "source": [
      "Some useful shorthands for navigating directories\n",
      "* **~** home directory of current user\n",
      "* **~john** home directory of the user \"john\"\n",
      "* **.** the current directory\n",
      "* **..** the parent directory of the current directory.\n"
     ]
    },
    {
     "cell_type": "code",
     "collapsed": false,
     "input": [
      "%cd ~/data\n",
      "print \"!ls -F\"\n",
      "!ls -F\n",
      "print \"!ls ../\"\n",
      "!ls ../"
     ],
     "language": "python",
     "metadata": {},
     "outputs": []
    },
    {
     "cell_type": "markdown",
     "metadata": {},
     "source": [
      "### Symbolic links"
     ]
    },
    {
     "cell_type": "code",
     "collapsed": false,
     "input": [
      "# \"scripts\" and \"data\" are not actual directories, rather they are symbolic links to directories\n",
      "%cd ~/data/\n",
      "!ls *"
     ],
     "language": "python",
     "metadata": {},
     "outputs": []
    },
    {
     "cell_type": "code",
     "collapsed": false,
     "input": [
      "# Symbolic links are created by the command \"ln -s\" \n",
      "# Here we create a link from the home directory to the directory DSE200/data/NLTK/Chopped\n",
      "%cd ~\n",
      "!ln -s DSE200/data/NLTK/Chopped minced\n",
      "!ls -l minced\n",
      "# the unix command \"cat\" prints out the contents of a file.\n",
      "!cat minced/F0"
     ],
     "language": "python",
     "metadata": {},
     "outputs": []
    },
    {
     "cell_type": "markdown",
     "metadata": {},
     "source": [
      "### Creating files and directories"
     ]
    },
    {
     "cell_type": "code",
     "collapsed": false,
     "input": [
      "# to create a directory, use `mkdir`\n",
      "!mkdir ~/tmp\n",
      "%cd ~/tmp"
     ],
     "language": "python",
     "metadata": {},
     "outputs": []
    },
    {
     "cell_type": "code",
     "collapsed": false,
     "input": [
      "# to create a file or update the time-stamp of the file use `touch`\n",
      "for i in range(10):\n",
      "    !touch file$i\n",
      "!ls -l"
     ],
     "language": "python",
     "metadata": {},
     "outputs": []
    },
    {
     "cell_type": "markdown",
     "metadata": {},
     "source": [
      "### Moving and copying files"
     ]
    },
    {
     "cell_type": "code",
     "collapsed": false,
     "input": [
      "%cd ~/DSE200/data/NLTK/Chopped/\n",
      "!ls"
     ],
     "language": "python",
     "metadata": {},
     "outputs": []
    },
    {
     "cell_type": "code",
     "collapsed": false,
     "input": [
      "# cp copies a file to a new location, maintaining the original copy\n",
      "!mkdir tmp\n",
      "!cp F87 tmp   # copy a file to a new location, maintaining the name\n",
      "!cp F87 tmp/newname # copy a file to a new location + name\n",
      "!ls -l F87 tmp"
     ],
     "language": "python",
     "metadata": {},
     "outputs": []
    },
    {
     "cell_type": "code",
     "collapsed": false,
     "input": [
      "# you can also copy a whole directory and all it's subdirectories\n",
      "!cp -r tmp newtmp"
     ],
     "language": "python",
     "metadata": {},
     "outputs": []
    },
    {
     "cell_type": "code",
     "collapsed": false,
     "input": [
      "# mv moves a file, or a whole directory, to a new location or a new name.\n",
      "# it just manipulates pointers, so it is much faster than copy. (similar to \n",
      "# the difference between deep and shallow copy in python)\n",
      "!mv newtmp tmp # move directory to a new location\n",
      "!ls tmp/*"
     ],
     "language": "python",
     "metadata": {},
     "outputs": []
    },
    {
     "cell_type": "code",
     "collapsed": false,
     "input": [
      "# mv file or directory to a new name (=rename)\n",
      "!mv tmp/newname tmp/newername\n",
      "!ls tmp/*"
     ],
     "language": "python",
     "metadata": {},
     "outputs": []
    },
    {
     "cell_type": "code",
     "collapsed": false,
     "input": [
      "#cleanup\n",
      "!rm -r tmp"
     ],
     "language": "python",
     "metadata": {},
     "outputs": []
    },
    {
     "cell_type": "markdown",
     "metadata": {},
     "source": [
      "### Removing files and directories"
     ]
    },
    {
     "cell_type": "code",
     "collapsed": false,
     "input": [
      "# to remove a file use the command `rm`\n",
      "for i in range(1,10,2):\n",
      "    !rm file$i\n",
      "!ls -l"
     ],
     "language": "python",
     "metadata": {},
     "outputs": []
    },
    {
     "cell_type": "code",
     "collapsed": false,
     "input": [
      "# to remove an empry directory, use 'rmdir'\n",
      "# If you want to remove a directory and everything that is in it use `rm -rf`. Note that this\n",
      "# is an irreversible action, it is NOT like moving a file to the trash bin.\n",
      "%cd ~\n",
      "!rm -rf tmp\n",
      "!ls -l tmp"
     ],
     "language": "python",
     "metadata": {},
     "outputs": []
    },
    {
     "cell_type": "markdown",
     "metadata": {},
     "source": [
      "## manual pages"
     ]
    },
    {
     "cell_type": "code",
     "collapsed": false,
     "input": [
      "%man ls"
     ],
     "language": "python",
     "metadata": {},
     "outputs": []
    },
    {
     "cell_type": "markdown",
     "metadata": {},
     "source": [
      "## Exploring the computer"
     ]
    },
    {
     "cell_type": "code",
     "collapsed": false,
     "input": [
      "# Find out which version of Ubuntu you are running \n",
      "!lsb_release -a"
     ],
     "language": "python",
     "metadata": {},
     "outputs": []
    },
    {
     "cell_type": "code",
     "collapsed": false,
     "input": [
      "# find out about the hardware\n",
      "!cat /proc/cpuinfo"
     ],
     "language": "python",
     "metadata": {},
     "outputs": []
    },
    {
     "cell_type": "code",
     "collapsed": false,
     "input": [
      "# find out how much memory you are using\n",
      "!free -m"
     ],
     "language": "python",
     "metadata": {},
     "outputs": []
    },
    {
     "cell_type": "code",
     "collapsed": false,
     "input": [
      "# find out how much disk space you are using\n",
      "!df"
     ],
     "language": "python",
     "metadata": {},
     "outputs": []
    },
    {
     "cell_type": "code",
     "collapsed": false,
     "input": [
      "#find out which directories consume most of this disk space\n",
      "%cd ~\n",
      "!du -s *"
     ],
     "language": "python",
     "metadata": {},
     "outputs": []
    },
    {
     "cell_type": "code",
     "collapsed": false,
     "input": [
      "# based on what we see here, we check the directory anaconda\n",
      "!du -s anaconda/*"
     ],
     "language": "python",
     "metadata": {},
     "outputs": []
    },
    {
     "cell_type": "markdown",
     "metadata": {},
     "source": [
      "## analyzing data\n",
      "head, tail, more, grep, wc, sort, cut (awk)"
     ]
    },
    {
     "cell_type": "code",
     "collapsed": false,
     "input": [
      "%cd ~/DSE200/data/ThinkStatsData/\n",
      "!ls"
     ],
     "language": "python",
     "metadata": {},
     "outputs": []
    },
    {
     "cell_type": "code",
     "collapsed": false,
     "input": [
      "# print the number of lines, words and characters in each file\n",
      "!wc *"
     ],
     "language": "python",
     "metadata": {},
     "outputs": []
    },
    {
     "cell_type": "code",
     "collapsed": false,
     "input": [
      "# print the first 2 lines of a file\n",
      "!head -2 2002FemPreg.dat"
     ],
     "language": "python",
     "metadata": {},
     "outputs": []
    },
    {
     "cell_type": "code",
     "collapsed": false,
     "input": [
      "## This list of tuples defines the names and locations of the elements.\n",
      "fields=[\n",
      "    ('caseid', 1, 12, int),\n",
      "    ('nbrnaliv', 22, 22, int),\n",
      "    ('babysex', 56, 56, int),\n",
      "    ('birthwgt_lb', 57, 58, int),\n",
      "    ('birthwgt_oz', 59, 60, int),\n",
      "    ('prglength', 275, 276, int),\n",
      "    ('outcome', 277, 277, int),\n",
      "    ('birthord', 278, 279, int),\n",
      "    ('agepreg', 284, 287, int),\n",
      "    ('finalwgt', 423, 440, float),\n",
      "]"
     ],
     "language": "python",
     "metadata": {},
     "outputs": []
    },
    {
     "cell_type": "code",
     "collapsed": false,
     "input": [
      "## Lets transform it into a dictionary whose keys are the names of the field\n",
      "fields_dict={name:(f,t,typ) for (name,f,t,typ) in fields}\n",
      "fields_dict"
     ],
     "language": "python",
     "metadata": {},
     "outputs": []
    },
    {
     "cell_type": "code",
     "collapsed": false,
     "input": [
      "# print the lines that contain a particular string\n",
      "string='3116'\n",
      "!grep $string 2002FemPreg.dat"
     ],
     "language": "python",
     "metadata": {},
     "outputs": []
    },
    {
     "cell_type": "code",
     "collapsed": false,
     "input": [
      "#suppose we just want to know how many lines have this string inside them.\n",
      "# this is our first use of pipes\n",
      "#the output from grep serves as the input to wc\n",
      "!wc 2002FemPreg.dat\n",
      "!grep $string 2002FemPreg.dat | wc"
     ],
     "language": "python",
     "metadata": {},
     "outputs": []
    },
    {
     "cell_type": "code",
     "collapsed": false,
     "input": [
      "#cut is a command that cuts specific fields from from each line \n",
      "%man cut"
     ],
     "language": "python",
     "metadata": {},
     "outputs": []
    },
    {
     "cell_type": "code",
     "collapsed": false,
     "input": [
      "# Extract from each line a specific field\n",
      "field='babysex'\n",
      "(fr,to,typ)=fields_dict[field]\n",
      "Range=str(fr-1)+'-'+str(to)\n",
      "print field,fr,to,Range\n",
      "!cut -c $Range 2002FemPreg.dat | head -5"
     ],
     "language": "python",
     "metadata": {},
     "outputs": []
    },
    {
     "cell_type": "code",
     "collapsed": false,
     "input": [
      "# lets sort these lines numerically, and look at the end, also known as the tail\n",
      "!cut -c $Range 2002FemPreg.dat | sort -n | tail"
     ],
     "language": "python",
     "metadata": {},
     "outputs": []
    },
    {
     "cell_type": "code",
     "collapsed": false,
     "input": [
      "#count the number of times each value appears using uniq\n",
      "!cut -c $Range 2002FemPreg.dat | sort -n | uniq -c"
     ],
     "language": "python",
     "metadata": {},
     "outputs": []
    },
    {
     "cell_type": "code",
     "collapsed": false,
     "input": [
      "# do the same thing but using an intermediary file\n",
      "!cut -c $Range 2002FemPreg.dat > cut$Range\n",
      "print 'head of cut',Range\n",
      "!head cut$Range\n",
      "!ls\n",
      "print 'output from uniq'\n",
      "!cat cut$Range | sort -n | uniq -c"
     ],
     "language": "python",
     "metadata": {},
     "outputs": []
    },
    {
     "cell_type": "markdown",
     "metadata": {},
     "source": [
      "## Environment variables\n",
      "\n",
      "Environment variables are strings that define the set up of the session. Environment variables allow the user to avoid\n",
      "retyping the same parameters over and over."
     ]
    },
    {
     "cell_type": "code",
     "collapsed": false,
     "input": [
      "#view all of the currently defined environment variable\n",
      "%env"
     ],
     "language": "python",
     "metadata": {},
     "outputs": []
    },
    {
     "cell_type": "code",
     "collapsed": false,
     "input": [
      "#view the valuse of a particular variables \n",
      "!echo $HOME $USER"
     ],
     "language": "python",
     "metadata": {},
     "outputs": []
    },
    {
     "cell_type": "code",
     "collapsed": false,
     "input": [
      "#The $ symbol is required as a prefix of the variable names\n",
      "#When used inside ipython, this $ can be used to refer to any currently defined variable\n",
      "i=25\n",
      "!echo $i"
     ],
     "language": "python",
     "metadata": {},
     "outputs": []
    },
    {
     "cell_type": "code",
     "collapsed": false,
     "input": [
      "#Particularly important are environment variables called \"paths\"\n",
      "!env | grep -i path"
     ],
     "language": "python",
     "metadata": {},
     "outputs": []
    },
    {
     "cell_type": "code",
     "collapsed": false,
     "input": [
      "# The path defines where the system will look for commands and in what order.\n",
      "# PATH tells the unix shell (bash) where to find the executables corresponding to commands\n",
      "# while PYTHONPATH tells python from where to `import` packages.\n",
      "# lets see where unix finds the command \"sort\"\n",
      "!which sort\n",
      "# Check on the variable PATH and you will see that /usr/bin is on it."
     ],
     "language": "python",
     "metadata": {},
     "outputs": []
    },
    {
     "cell_type": "code",
     "collapsed": false,
     "input": [
      "# You can also find all of the places along the path that have a definition relevant to sort\n",
      "!whereis sort\n",
      "# The last one is the manual page for sort which you can view using the command %man sort"
     ],
     "language": "python",
     "metadata": {},
     "outputs": []
    },
    {
     "cell_type": "markdown",
     "metadata": {},
     "source": [
      "#### Excercise \n",
      "find where the location of the commands `python`,`ipython` and `mail`"
     ]
    },
    {
     "cell_type": "code",
     "collapsed": false,
     "input": [
      "!which python"
     ],
     "language": "python",
     "metadata": {},
     "outputs": []
    },
    {
     "cell_type": "markdown",
     "metadata": {},
     "source": [
      "## Wildcards and glob\n",
      "\n",
      "We have seen the most used wild-card `*`, which matches any sequence of (non blank) characters.\n",
      "For example `B*.py` will match any filename that starts with `B` and ends with `.py`.\n",
      "\n",
      "Other useful wildcards are:\n",
      "\n",
      "wild card | Description\n",
      "--------|--------------------------------------------------------   \n",
      "    `*`   |  An asterisk matches any number of characters in a filename, including none.\n",
      "    `?`   |  The question mark matches any single character.\n",
      "    `[ ]` |  Brackets enclose a set of characters, any one of which may match a single character at that position.\n",
      "    `-`   |  A hyphen used within [ ] denotes a range of characters.\n",
      "    `~`   |  A tilde at the beginning of a word expands to the name of your home directory.  If you append another user's login name to the character, it refers to that user's home directory.\n",
      "    \n",
      "**Here are some examples:**\n",
      "\n",
      "1. **cat c* ** displays any file whose name begins with c including the file c, if it exists.\n",
      "1. **ls *.c ** lists all files that have a .c extension.\n",
      "1. **cp ../rmt?. ** copies every file in the parent directory that is four characters long and begins with rmt to the working directory. (The names will remain the same.)\n",
      "1. **ls rmt[34567] ** lists every file that begins with rmt and has a 3, 4, 5, 6, or 7 at the end.\n",
      "1. **ls rmt[3-7] ** does exactly the same thing as the previous example.\n",
      "1. **ls ~ ** lists your home directory.\n",
      "1. **ls ~hessen ** lists the home directory of the guy1 with the user id hessen."
     ]
    },
    {
     "cell_type": "markdown",
     "metadata": {},
     "source": [
      "#### within python, use glob()\n",
      "\n",
      "You get the same functionality as wildcards by using the function `glob`, but instead of getting the result printed out, you get it as a list of strings."
     ]
    },
    {
     "cell_type": "code",
     "collapsed": false,
     "input": [
      "!ls -d li* # do not descent into directories\n",
      "from glob import glob\n",
      "L=glob('li*')\n",
      "L"
     ],
     "language": "python",
     "metadata": {},
     "outputs": [
      {
       "output_type": "stream",
       "stream": "stdout",
       "text": [
        "lib  lib64\r\n"
       ]
      },
      {
       "metadata": {},
       "output_type": "pyout",
       "prompt_number": 67,
       "text": [
        "['lib', 'lib64']"
       ]
      }
     ],
     "prompt_number": 67
    },
    {
     "cell_type": "markdown",
     "metadata": {},
     "source": [
      "## Loading and saving files\n",
      "\n",
      "It is often useful to load short files into the notebook, alter them, and save them back into the file system. The magics `%load` and `%%writefile` are used to do that.\n"
     ]
    },
    {
     "cell_type": "code",
     "collapsed": false,
     "input": [
      "!ls"
     ],
     "language": "python",
     "metadata": {},
     "outputs": [
      {
       "output_type": "stream",
       "stream": "stdout",
       "text": [
        "2002FemPreg.dat  2002FemResp.dat  2002Male.dat\tsurvey.pl\r\n"
       ]
      }
     ],
     "prompt_number": 31
    },
    {
     "cell_type": "code",
     "collapsed": false,
     "input": [
      "# the magic %load, unlike using !cat, creates a new cell that can be executed inside the notebook\n",
      "%load survey.pl"
     ],
     "language": "python",
     "metadata": {},
     "outputs": [],
     "prompt_number": 30
    },
    {
     "cell_type": "markdown",
     "metadata": {},
     "source": [
      "## Processes\n",
      "\n",
      "A process is a sequence of commands that are executed in sequence, one after the other.\n",
      "By using \"time sharing\" a single CPU can compute many processes at the same time, frequently switching from one process to the next. In a multi-core machine, there are several CPUs and so even more processes can execute at the same time."
     ]
    },
    {
     "cell_type": "code",
     "collapsed": false,
     "input": [
      "# You can find out the current processes on your system using the command \"top\"\n",
      "# without flags, the command will open a window that will constantly update and that also\n",
      "# allows you to quit (or kill) processes. Here we use the flags to specify that top should only run once.\n",
      "!top -b -n 1"
     ],
     "language": "python",
     "metadata": {},
     "outputs": [
      {
       "output_type": "stream",
       "stream": "stdout",
       "text": [
        "top - 05:41:51 up 59 min,  1 user,  load average: 0.00, 0.01, 0.05\r\n",
        "Tasks:  64 total,   1 running,  63 sleeping,   0 stopped,   0 zombie\r\n",
        "Cpu(s):  0.4%us,  0.3%sy,  0.1%ni, 96.6%id,  2.5%wa,  0.0%hi,  0.0%si,  0.1%st\r\n",
        "Mem:    604376k total,   593392k used,    10984k free,    20632k buffers\r\n",
        "Swap:        0k total,        0k used,        0k free,   301412k cached\r\n",
        "\r\n",
        "  PID USER      PR  NI  VIRT  RES  SHR S %CPU %MEM    TIME+  COMMAND            \r\n",
        "    1 root      20   0 24336 2304 1348 S  0.0  0.4   0:00.39 init               \r\n",
        "    2 root      20   0     0    0    0 S  0.0  0.0   0:00.00 kthreadd           \r\n",
        "    3 root      20   0     0    0    0 S  0.0  0.0   0:00.03 ksoftirqd/0        \r\n",
        "    4 root      20   0     0    0    0 S  0.0  0.0   0:00.00 kworker/0:0        \r\n",
        "    5 root      20   0     0    0    0 S  0.0  0.0   0:00.01 kworker/u:0        \r\n",
        "    6 root      RT   0     0    0    0 S  0.0  0.0   0:00.00 migration/0        \r\n",
        "    7 root      RT   0     0    0    0 S  0.0  0.0   0:00.02 watchdog/0         \r\n",
        "    8 root       0 -20     0    0    0 S  0.0  0.0   0:00.00 cpuset             \r\n",
        "    9 root       0 -20     0    0    0 S  0.0  0.0   0:00.00 khelper            \r\n",
        "   10 root      20   0     0    0    0 S  0.0  0.0   0:00.00 kdevtmpfs          \r\n",
        "   11 root       0 -20     0    0    0 S  0.0  0.0   0:00.00 netns              \r\n",
        "   12 root      20   0     0    0    0 S  0.0  0.0   0:00.08 xenwatch           \r\n",
        "   13 root      20   0     0    0    0 S  0.0  0.0   0:00.00 xenbus             \r\n",
        "   14 root      20   0     0    0    0 S  0.0  0.0   0:00.01 sync_supers        \r\n",
        "   15 root      20   0     0    0    0 S  0.0  0.0   0:00.00 bdi-default        \r\n",
        "   16 root       0 -20     0    0    0 S  0.0  0.0   0:00.00 kintegrityd        \r\n",
        "   17 root       0 -20     0    0    0 S  0.0  0.0   0:00.00 kblockd            \r\n"
       ]
      }
     ],
     "prompt_number": 36
    },
    {
     "cell_type": "markdown",
     "metadata": {},
     "source": [
      "## Pipes\n",
      "We used pipes above to communicate between two or more unix commands.\n",
      "We now discuss this in more detail.\n",
      "\n",
      "Unix processes have three default input and output channels\n",
      "* **stdin** the standard input channel - by default - the keyboard\n",
      "* **stdout** the standard output channel - by default - the terminal.\n",
      "* **stderr** the standard error channel - by default - the terminal.\n",
      "\n",
      "Channels can be used to connect programs to each other and to connect programs and files. This is called **I/O redirection**.\n",
      "\n",
      "Connecting a standard channel to files is done using the following symbols\n",
      "(in bash, which is the standard shell in both ubuntu and os-x).\n",
      "\n",
      "| command      | result |\n",
      "|--------------|-----------------------------------------------------|\n",
      "| < filename   | Redirect stdin to read from the file \"filename\" |\n",
      "| > filename  | Redirect stdout to file \"filename.\" |\n",
      "| >>filename  | Redirect and append stdout to file \"filename.\" |\n",
      "| 1>filename   | Redirect stdout to file \"filename.\" |\n",
      "| 1>>filename  | Redirect and append stdout to file \"filename.\" |\n",
      "| 2>filename   | Redirect stderr to file \"filename.\" |\n",
      "| 2>>filename  | Redirect and append stderr to file \"filename.\" |\n",
      "| &>filename   | Redirect both stdout and stderr to file \"filename.\" |\n"
     ]
    },
    {
     "cell_type": "code",
     "collapsed": false,
     "input": [
      "# One of the most basic unix command is cat\n",
      "%cd ~\n",
      "!cat < .bash_logout"
     ],
     "language": "python",
     "metadata": {},
     "outputs": [
      {
       "output_type": "stream",
       "stream": "stdout",
       "text": [
        "/home/ubuntu\n",
        "# ~/.bash_logout: executed by bash(1) when login shell exits.\r\n",
        "\r\n",
        "# when leaving the console clear the screen to increase privacy\r\n",
        "\r\n",
        "if [ \"$SHLVL\" = 1 ]; then\r\n",
        "    [ -x /usr/bin/clear_console ] && /usr/bin/clear_console -q\r\n",
        "fi\r\n"
       ]
      }
     ],
     "prompt_number": 38
    },
    {
     "cell_type": "code",
     "collapsed": false,
     "input": [
      "# echo is another basic command, it pipes the string it gets as a parameter to std-out\n",
      "# To create a file with some specific line we can use\n",
      "!echo \"MAS-DSE is the best\" | cat > \"MAS-FILE\"\n",
      "!ls MAS*\n",
      "!cat MAS-FILE\n",
      "!rm MAS-FILE"
     ],
     "language": "python",
     "metadata": {},
     "outputs": [
      {
       "output_type": "stream",
       "stream": "stdout",
       "text": [
        "MAS-FILE\r\n"
       ]
      },
      {
       "output_type": "stream",
       "stream": "stdout",
       "text": [
        "MAS-DSE is the best\r\n"
       ]
      }
     ],
     "prompt_number": 43
    },
    {
     "cell_type": "code",
     "collapsed": false,
     "input": [
      "# some time we want to supress the error messages.\n",
      "# To do that we redirect stderr to a fictitious file called /dev/null\n",
      "!du -s /* # 2> /dev/null # | sort -nr\n",
      "\n"
     ],
     "language": "python",
     "metadata": {},
     "outputs": [
      {
       "output_type": "stream",
       "stream": "stdout",
       "text": [
        "8820\t/bin\r\n",
        "17608\t/boot\r\n",
        "8\t/dev\r\n",
        "du: cannot read directory `/etc/ssl/private': Permission denied\r\n"
       ]
      },
      {
       "output_type": "stream",
       "stream": "stdout",
       "text": [
        "6848\t/etc\r\n"
       ]
      },
      {
       "output_type": "stream",
       "stream": "stdout",
       "text": [
        "7117392\t/home\r\n",
        "0\t/initrd.img\r\n"
       ]
      },
      {
       "output_type": "stream",
       "stream": "stdout",
       "text": [
        "93236\t/lib\r\n",
        "4\t/lib64\r\n",
        "du: cannot read directory `/lost+found': Permission denied\r\n",
        "16\t/lost+found\r\n",
        "4\t/media\r\n"
       ]
      },
      {
       "output_type": "stream",
       "stream": "stdout",
       "text": [
        "4\t/mnt\r\n",
        "4\t/opt\r\n",
        "du: cannot read directory `/proc/tty/driver': Permission denied\r\n",
        "du: cannot read directory `/proc/1/task/1/fd': Permission denied\r\n",
        "du: cannot read directory `/proc/1/task/1/fdinfo': Permission denied\r\n",
        "du: cannot read directory `/proc/1/task/1/ns': Permission denied\r\n",
        "du: cannot read directory `/proc/1/fd': Permission denied\r\n",
        "du: cannot read directory `/proc/1/fdinfo': Permission denied\r\n",
        "du: cannot read directory `/proc/1/ns': Permission denied\r\n",
        "du: cannot read directory `/proc/2/task/2/fd': Permission denied\r\n",
        "du: cannot read directory `/proc/2/task/2/fdinfo': Permission denied\r\n",
        "du: cannot read directory `/proc/2/task/2/ns': Permission denied\r\n",
        "du: cannot read directory `/proc/2/fd': Permission denied\r\n",
        "du: cannot read directory `/proc/2/fdinfo': Permission denied\r\n",
        "du: cannot read directory `/proc/2/ns': Permission denied\r\n",
        "du: cannot read directory `/proc/3/task/3/fd': Permission denied\r\n",
        "du: cannot read directory `/proc/3/task/3/fdinfo': Permission denied\r\n",
        "du: cannot read directory `/proc/3/task/3/ns': Permission denied\r\n",
        "du: cannot read directory `/proc/3/fd': Permission denied\r\n",
        "du: cannot read directory `/proc/3/fdinfo': Permission denied\r\n",
        "du: cannot read directory `/proc/3/ns': Permission denied\r\n",
        "du: cannot read directory `/proc/4/task/4/fd': Permission denied\r\n",
        "du: cannot read directory `/proc/4/task/4/fdinfo': Permission denied\r\n",
        "du: cannot read directory `/proc/4/task/4/ns': Permission denied\r\n",
        "du: cannot read directory `/proc/4/fd': Permission denied\r\n",
        "du: cannot read directory `/proc/4/fdinfo': Permission denied\r\n",
        "du: cannot read directory `/proc/4/ns': Permission denied\r\n",
        "du: cannot read directory `/proc/5/task/5/fd': Permission denied\r\n",
        "du: cannot read directory `/proc/5/task/5/fdinfo': Permission denied\r\n",
        "du: cannot read directory `/proc/5/task/5/ns': Permission denied\r\n",
        "du: cannot read directory `/proc/5/fd': Permission denied\r\n",
        "du: cannot read directory `/proc/5/fdinfo': Permission denied\r\n",
        "du: cannot read directory `/proc/5/ns': Permission denied\r\n",
        "du: cannot read directory `/proc/6/task/6/fd': Permission denied\r\n",
        "du: cannot read directory `/proc/6/task/6/fdinfo': Permission denied\r\n",
        "du: cannot read directory `/proc/6/task/6/ns': Permission denied\r\n",
        "du: cannot read directory `/proc/6/fd': Permission denied\r\n",
        "du: cannot read directory `/proc/6/fdinfo': Permission denied\r\n",
        "du: cannot read directory `/proc/6/ns': Permission denied\r\n",
        "du: cannot read directory `/proc/7/task/7/fd': Permission denied\r\n",
        "du: cannot read directory `/proc/7/task/7/fdinfo': Permission denied\r\n",
        "du: cannot read directory `/proc/7/task/7/ns': Permission denied\r\n",
        "du: cannot read directory `/proc/7/fd': Permission denied\r\n",
        "du: cannot read directory `/proc/7/fdinfo': Permission denied\r\n",
        "du: cannot read directory `/proc/7/ns': Permission denied\r\n",
        "du: cannot read directory `/proc/8/task/8/fd': Permission denied\r\n",
        "du: cannot read directory `/proc/8/task/8/fdinfo': Permission denied\r\n",
        "du: cannot read directory `/proc/8/task/8/ns': Permission denied\r\n",
        "du: cannot read directory `/proc/8/fd': Permission denied\r\n",
        "du: cannot read directory `/proc/8/fdinfo': Permission denied\r\n",
        "du: cannot read directory `/proc/8/ns': Permission denied\r\n",
        "du: cannot read directory `/proc/9/task/9/fd': Permission denied\r\n",
        "du: cannot read directory `/proc/9/task/9/fdinfo': Permission denied\r\n",
        "du: cannot read directory `/proc/9/task/9/ns': Permission denied\r\n",
        "du: cannot read directory `/proc/9/fd': Permission denied\r\n",
        "du: cannot read directory `/proc/9/fdinfo': Permission denied\r\n",
        "du: cannot read directory `/proc/9/ns': Permission denied\r\n",
        "du: cannot read directory `/proc/10/task/10/fd': Permission denied\r\n",
        "du: cannot read directory `/proc/10/task/10/fdinfo': Permission denied\r\n",
        "du: cannot read directory `/proc/10/task/10/ns': Permission denied\r\n",
        "du: cannot read directory `/proc/10/fd': Permission denied\r\n",
        "du: cannot read directory `/proc/10/fdinfo': Permission denied\r\n",
        "du: cannot read directory `/proc/10/ns': Permission denied\r\n",
        "du: cannot read directory `/proc/11/task/11/fd': Permission denied\r\n",
        "du: cannot read directory `/proc/11/task/11/fdinfo': Permission denied\r\n",
        "du: cannot read directory `/proc/11/task/11/ns': Permission denied\r\n",
        "du: cannot read directory `/proc/11/fd': Permission denied\r\n",
        "du: cannot read directory `/proc/11/fdinfo': Permission denied\r\n",
        "du: cannot read directory `/proc/11/ns': Permission denied\r\n",
        "du: cannot read directory `/proc/12/task/12/fd': Permission denied\r\n",
        "du: cannot read directory `/proc/12/task/12/fdinfo': Permission denied\r\n",
        "du: cannot read directory `/proc/12/task/12/ns': Permission denied\r\n",
        "du: cannot read directory `/proc/12/fd': Permission denied\r\n",
        "du: cannot read directory `/proc/12/fdinfo': Permission denied\r\n",
        "du: cannot read directory `/proc/12/ns': Permission denied\r\n",
        "du: cannot read directory `/proc/13/task/13/fd': Permission denied\r\n",
        "du: cannot read directory `/proc/13/task/13/fdinfo': Permission denied\r\n",
        "du: cannot read directory `/proc/13/task/13/ns': Permission denied\r\n",
        "du: cannot read directory `/proc/13/fd': Permission denied\r\n",
        "du: cannot read directory `/proc/13/fdinfo': Permission denied\r\n",
        "du: cannot read directory `/proc/13/ns': Permission denied\r\n",
        "du: cannot read directory `/proc/14/task/14/fd': Permission denied\r\n",
        "du: cannot read directory `/proc/14/task/14/fdinfo': Permission denied\r\n",
        "du: cannot read directory `/proc/14/task/14/ns': Permission denied\r\n",
        "du: cannot read directory `/proc/14/fd': Permission denied\r\n",
        "du: cannot read directory `/proc/14/fdinfo': Permission denied\r\n",
        "du: cannot read directory `/proc/14/ns': Permission denied\r\n",
        "du: cannot read directory `/proc/15/task/15/fd': Permission denied\r\n",
        "du: cannot read directory `/proc/15/task/15/fdinfo': Permission denied\r\n",
        "du: cannot read directory `/proc/15/task/15/ns': Permission denied\r\n",
        "du: cannot read directory `/proc/15/fd': Permission denied\r\n",
        "du: cannot read directory `/proc/15/fdinfo': Permission denied\r\n",
        "du: cannot read directory `/proc/15/ns': Permission denied\r\n",
        "du: cannot read directory `/proc/16/task/16/fd': Permission denied\r\n",
        "du: cannot read directory `/proc/16/task/16/fdinfo': Permission denied\r\n",
        "du: cannot read directory `/proc/16/task/16/ns': Permission denied\r\n",
        "du: cannot read directory `/proc/16/fd': Permission denied\r\n",
        "du: cannot read directory `/proc/16/fdinfo': Permission denied\r\n",
        "du: cannot read directory `/proc/16/ns': Permission denied\r\n",
        "du: cannot read directory `/proc/17/task/17/fd': Permission denied\r\n",
        "du: cannot read directory `/proc/17/task/17/fdinfo': Permission denied\r\n",
        "du: cannot read directory `/proc/17/task/17/ns': Permission denied\r\n",
        "du: cannot read directory `/proc/17/fd': Permission denied\r\n",
        "du: cannot read directory `/proc/17/fdinfo': Permission denied\r\n",
        "du: cannot read directory `/proc/17/ns': Permission denied\r\n",
        "du: cannot read directory `/proc/18/task/18/fd': Permission denied\r\n",
        "du: cannot read directory `/proc/18/task/18/fdinfo': Permission denied\r\n",
        "du: cannot read directory `/proc/18/task/18/ns': Permission denied\r\n",
        "du: cannot read directory `/proc/18/fd': Permission denied\r\n",
        "du: cannot read directory `/proc/18/fdinfo': Permission denied\r\n",
        "du: cannot read directory `/proc/18/ns': Permission denied\r\n",
        "du: cannot read directory `/proc/19/task/19/fd': Permission denied\r\n",
        "du: cannot read directory `/proc/19/task/19/fdinfo': Permission denied\r\n",
        "du: cannot read directory `/proc/19/task/19/ns': Permission denied\r\n",
        "du: cannot read directory `/proc/19/fd': Permission denied\r\n",
        "du: cannot read directory `/proc/19/fdinfo': Permission denied\r\n",
        "du: cannot read directory `/proc/19/ns': Permission denied\r\n",
        "du: cannot read directory `/proc/20/task/20/fd': Permission denied\r\n",
        "du: cannot read directory `/proc/20/task/20/fdinfo': Permission denied\r\n",
        "du: cannot read directory `/proc/20/task/20/ns': Permission denied\r\n",
        "du: cannot read directory `/proc/20/fd': Permission denied\r\n",
        "du: cannot read directory `/proc/20/fdinfo': Permission denied\r\n",
        "du: cannot read directory `/proc/20/ns': Permission denied\r\n",
        "du: cannot read directory `/proc/21/task/21/fd': Permission denied\r\n",
        "du: cannot read directory `/proc/21/task/21/fdinfo': Permission denied\r\n",
        "du: cannot read directory `/proc/21/task/21/ns': Permission denied\r\n"
       ]
      },
      {
       "output_type": "stream",
       "stream": "stdout",
       "text": [
        "du: cannot read directory `/proc/21/fd': Permission denied\r\n",
        "du: cannot read directory `/proc/21/fdinfo': Permission denied\r\n",
        "du: cannot read directory `/proc/21/ns': Permission denied\r\n",
        "du: cannot read directory `/proc/23/task/23/fd': Permission denied\r\n",
        "du: cannot read directory `/proc/23/task/23/fdinfo': Permission denied\r\n",
        "du: cannot read directory `/proc/23/task/23/ns': Permission denied\r\n",
        "du: cannot read directory `/proc/23/fd': Permission denied\r\n",
        "du: cannot read directory `/proc/23/fdinfo': Permission denied\r\n",
        "du: cannot read directory `/proc/23/ns': Permission denied\r\n",
        "du: cannot read directory `/proc/24/task/24/fd': Permission denied\r\n",
        "du: cannot read directory `/proc/24/task/24/fdinfo': Permission denied\r\n",
        "du: cannot read directory `/proc/24/task/24/ns': Permission denied\r\n",
        "du: cannot read directory `/proc/24/fd': Permission denied\r\n",
        "du: cannot read directory `/proc/24/fdinfo': Permission denied\r\n",
        "du: cannot read directory `/proc/24/ns': Permission denied\r\n",
        "du: cannot read directory `/proc/25/task/25/fd': Permission denied\r\n",
        "du: cannot read directory `/proc/25/task/25/fdinfo': Permission denied\r\n",
        "du: cannot read directory `/proc/25/task/25/ns': Permission denied\r\n",
        "du: cannot read directory `/proc/25/fd': Permission denied\r\n",
        "du: cannot read directory `/proc/25/fdinfo': Permission denied\r\n",
        "du: cannot read directory `/proc/25/ns': Permission denied\r\n",
        "du: cannot read directory `/proc/26/task/26/fd': Permission denied\r\n",
        "du: cannot read directory `/proc/26/task/26/fdinfo': Permission denied\r\n",
        "du: cannot read directory `/proc/26/task/26/ns': Permission denied\r\n",
        "du: cannot read directory `/proc/26/fd': Permission denied\r\n",
        "du: cannot read directory `/proc/26/fdinfo': Permission denied\r\n",
        "du: cannot read directory `/proc/26/ns': Permission denied\r\n",
        "du: cannot read directory `/proc/27/task/27/fd': Permission denied\r\n",
        "du: cannot read directory `/proc/27/task/27/fdinfo': Permission denied\r\n",
        "du: cannot read directory `/proc/27/task/27/ns': Permission denied\r\n",
        "du: cannot read directory `/proc/27/fd': Permission denied\r\n",
        "du: cannot read directory `/proc/27/fdinfo': Permission denied\r\n",
        "du: cannot read directory `/proc/27/ns': Permission denied\r\n",
        "du: cannot read directory `/proc/28/task/28/fd': Permission denied\r\n",
        "du: cannot read directory `/proc/28/task/28/fdinfo': Permission denied\r\n",
        "du: cannot read directory `/proc/28/task/28/ns': Permission denied\r\n",
        "du: cannot read directory `/proc/28/fd': Permission denied\r\n",
        "du: cannot read directory `/proc/28/fdinfo': Permission denied\r\n",
        "du: cannot read directory `/proc/28/ns': Permission denied\r\n",
        "du: cannot read directory `/proc/29/task/29/fd': Permission denied\r\n",
        "du: cannot read directory `/proc/29/task/29/fdinfo': Permission denied\r\n",
        "du: cannot read directory `/proc/29/task/29/ns': Permission denied\r\n",
        "du: cannot read directory `/proc/29/fd': Permission denied\r\n",
        "du: cannot read directory `/proc/29/fdinfo': Permission denied\r\n",
        "du: cannot read directory `/proc/29/ns': Permission denied\r\n",
        "du: cannot read directory `/proc/37/task/37/fd': Permission denied\r\n",
        "du: cannot read directory `/proc/37/task/37/fdinfo': Permission denied\r\n",
        "du: cannot read directory `/proc/37/task/37/ns': Permission denied\r\n",
        "du: cannot read directory `/proc/37/fd': Permission denied\r\n",
        "du: cannot read directory `/proc/37/fdinfo': Permission denied\r\n",
        "du: cannot read directory `/proc/37/ns': Permission denied\r\n",
        "du: cannot read directory `/proc/38/task/38/fd': Permission denied\r\n",
        "du: cannot read directory `/proc/38/task/38/fdinfo': Permission denied\r\n",
        "du: cannot read directory `/proc/38/task/38/ns': Permission denied\r\n",
        "du: cannot read directory `/proc/38/fd': Permission denied\r\n",
        "du: cannot read directory `/proc/38/fdinfo': Permission denied\r\n",
        "du: cannot read directory `/proc/38/ns': Permission denied\r\n",
        "du: cannot read directory `/proc/57/task/57/fd': Permission denied\r\n",
        "du: cannot read directory `/proc/57/task/57/fdinfo': Permission denied\r\n",
        "du: cannot read directory `/proc/57/task/57/ns': Permission denied\r\n",
        "du: cannot read directory `/proc/57/fd': Permission denied\r\n",
        "du: cannot read directory `/proc/57/fdinfo': Permission denied\r\n",
        "du: cannot read directory `/proc/57/ns': Permission denied\r\n",
        "du: cannot read directory `/proc/159/task/159/fd': Permission denied\r\n",
        "du: cannot read directory `/proc/159/task/159/fdinfo': Permission denied\r\n",
        "du: cannot read directory `/proc/159/task/159/ns': Permission denied\r\n",
        "du: cannot read directory `/proc/159/fd': Permission denied\r\n",
        "du: cannot read directory `/proc/159/fdinfo': Permission denied\r\n",
        "du: cannot read directory `/proc/159/ns': Permission denied\r\n",
        "du: cannot read directory `/proc/160/task/160/fd': Permission denied\r\n",
        "du: cannot read directory `/proc/160/task/160/fdinfo': Permission denied\r\n",
        "du: cannot read directory `/proc/160/task/160/ns': Permission denied\r\n",
        "du: cannot read directory `/proc/160/fd': Permission denied\r\n",
        "du: cannot read directory `/proc/160/fdinfo': Permission denied\r\n",
        "du: cannot read directory `/proc/160/ns': Permission denied\r\n",
        "du: cannot read directory `/proc/185/task/185/fd': Permission denied\r\n",
        "du: cannot read directory `/proc/185/task/185/fdinfo': Permission denied\r\n",
        "du: cannot read directory `/proc/185/task/185/ns': Permission denied\r\n",
        "du: cannot read directory `/proc/185/fd': Permission denied\r\n",
        "du: cannot read directory `/proc/185/fdinfo': Permission denied\r\n",
        "du: cannot read directory `/proc/185/ns': Permission denied\r\n",
        "du: cannot read directory `/proc/265/task/265/fd': Permission denied\r\n",
        "du: cannot read directory `/proc/265/task/265/fdinfo': Permission denied\r\n",
        "du: cannot read directory `/proc/265/task/265/ns': Permission denied\r\n",
        "du: cannot read directory `/proc/265/fd': Permission denied\r\n",
        "du: cannot read directory `/proc/265/fdinfo': Permission denied\r\n",
        "du: cannot read directory `/proc/265/ns': Permission denied\r\n",
        "du: cannot read directory `/proc/269/task/269/fd': Permission denied\r\n",
        "du: cannot read directory `/proc/269/task/269/fdinfo': Permission denied\r\n",
        "du: cannot read directory `/proc/269/task/269/ns': Permission denied\r\n",
        "du: cannot read directory `/proc/269/fd': Permission denied\r\n",
        "du: cannot read directory `/proc/269/fdinfo': Permission denied\r\n",
        "du: cannot read directory `/proc/269/ns': Permission denied\r\n",
        "du: cannot read directory `/proc/321/task/321/fd': Permission denied\r\n",
        "du: cannot read directory `/proc/321/task/321/fdinfo': Permission denied\r\n",
        "du: cannot read directory `/proc/321/task/321/ns': Permission denied\r\n",
        "du: cannot read directory `/proc/321/fd': Permission denied\r\n",
        "du: cannot read directory `/proc/321/fdinfo': Permission denied\r\n",
        "du: cannot read directory `/proc/321/ns': Permission denied\r\n",
        "du: cannot read directory `/proc/322/task/322/fd': Permission denied\r\n",
        "du: cannot read directory `/proc/322/task/322/fdinfo': Permission denied\r\n",
        "du: cannot read directory `/proc/322/task/322/ns': Permission denied\r\n",
        "du: cannot read directory `/proc/322/fd': Permission denied\r\n",
        "du: cannot read directory `/proc/322/fdinfo': Permission denied\r\n",
        "du: cannot read directory `/proc/322/ns': Permission denied\r\n",
        "du: cannot read directory `/proc/404/task/404/fd': Permission denied\r\n",
        "du: cannot read directory `/proc/404/task/404/fdinfo': Permission denied\r\n",
        "du: cannot read directory `/proc/404/task/404/ns': Permission denied\r\n",
        "du: cannot read directory `/proc/404/fd': Permission denied\r\n",
        "du: cannot read directory `/proc/404/fdinfo': Permission denied\r\n",
        "du: cannot read directory `/proc/404/ns': Permission denied\r\n",
        "du: cannot read directory `/proc/467/task/467/fd': Permission denied\r\n",
        "du: cannot read directory `/proc/467/task/467/fdinfo': Permission denied\r\n",
        "du: cannot read directory `/proc/467/task/467/ns': Permission denied\r\n",
        "du: cannot read directory `/proc/467/fd': Permission denied\r\n",
        "du: cannot read directory `/proc/467/fdinfo': Permission denied\r\n",
        "du: cannot read directory `/proc/467/ns': Permission denied\r\n",
        "du: cannot read directory `/proc/548/task/548/fd': Permission denied\r\n",
        "du: cannot read directory `/proc/548/task/548/fdinfo': Permission denied\r\n",
        "du: cannot read directory `/proc/548/task/548/ns': Permission denied\r\n",
        "du: cannot read directory `/proc/548/fd': Permission denied\r\n",
        "du: cannot read directory `/proc/548/fdinfo': Permission denied\r\n",
        "du: cannot read directory `/proc/548/ns': Permission denied\r\n",
        "du: cannot read directory `/proc/564/task/564/fd': Permission denied\r\n",
        "du: cannot read directory `/proc/564/task/564/fdinfo': Permission denied\r\n",
        "du: cannot read directory `/proc/564/task/564/ns': Permission denied\r\n",
        "du: cannot read directory `/proc/564/task/570/fd': Permission denied\r\n",
        "du: cannot read directory `/proc/564/task/570/fdinfo': Permission denied\r\n",
        "du: cannot read directory `/proc/564/task/570/ns': Permission denied\r\n",
        "du: cannot read directory `/proc/564/task/574/fd': Permission denied\r\n",
        "du: cannot read directory `/proc/564/task/574/fdinfo': Permission denied\r\n",
        "du: cannot read directory `/proc/564/task/574/ns': Permission denied\r\n",
        "du: cannot read directory `/proc/564/task/575/fd': Permission denied\r\n",
        "du: cannot read directory `/proc/564/task/575/fdinfo': Permission denied\r\n",
        "du: cannot read directory `/proc/564/task/575/ns': Permission denied\r\n",
        "du: cannot read directory `/proc/564/fd': Permission denied\r\n",
        "du: cannot read directory `/proc/564/fdinfo': Permission denied\r\n",
        "du: cannot read directory `/proc/564/ns': Permission denied\r\n",
        "du: cannot read directory `/proc/580/task/580/fd': Permission denied\r\n",
        "du: cannot read directory `/proc/580/task/580/fdinfo': Permission denied\r\n",
        "du: cannot read directory `/proc/580/task/580/ns': Permission denied\r\n",
        "du: cannot read directory `/proc/580/fd': Permission denied\r\n",
        "du: cannot read directory `/proc/580/fdinfo': Permission denied\r\n",
        "du: cannot read directory `/proc/580/ns': Permission denied\r\n",
        "du: cannot read directory `/proc/641/task/641/fd': Permission denied\r\n",
        "du: cannot read directory `/proc/641/task/641/fdinfo': Permission denied\r\n",
        "du: cannot read directory `/proc/641/task/641/ns': Permission denied"
       ]
      },
      {
       "output_type": "stream",
       "stream": "stdout",
       "text": [
        "\r\n",
        "du: cannot read directory `/proc/641/fd': Permission denied\r\n",
        "du: cannot read directory `/proc/641/fdinfo': Permission denied\r\n",
        "du: cannot read directory `/proc/641/ns': Permission denied\r\n",
        "du: cannot read directory `/proc/646/task/646/fd': Permission denied\r\n",
        "du: cannot read directory `/proc/646/task/646/fdinfo': Permission denied\r\n",
        "du: cannot read directory `/proc/646/task/646/ns': Permission denied\r\n",
        "du: cannot read directory `/proc/646/fd': Permission denied\r\n",
        "du: cannot read directory `/proc/646/fdinfo': Permission denied\r\n",
        "du: cannot read directory `/proc/646/ns': Permission denied\r\n",
        "du: cannot read directory `/proc/652/task/652/fd': Permission denied\r\n",
        "du: cannot read directory `/proc/652/task/652/fdinfo': Permission denied\r\n",
        "du: cannot read directory `/proc/652/task/652/ns': Permission denied\r\n",
        "du: cannot read directory `/proc/652/fd': Permission denied\r\n",
        "du: cannot read directory `/proc/652/fdinfo': Permission denied\r\n",
        "du: cannot read directory `/proc/652/ns': Permission denied\r\n",
        "du: cannot read directory `/proc/655/task/655/fd': Permission denied\r\n",
        "du: cannot read directory `/proc/655/task/655/fdinfo': Permission denied\r\n",
        "du: cannot read directory `/proc/655/task/655/ns': Permission denied\r\n",
        "du: cannot read directory `/proc/655/fd': Permission denied\r\n",
        "du: cannot read directory `/proc/655/fdinfo': Permission denied\r\n",
        "du: cannot read directory `/proc/655/ns': Permission denied\r\n",
        "du: cannot read directory `/proc/660/task/660/fd': Permission denied\r\n",
        "du: cannot read directory `/proc/660/task/660/fdinfo': Permission denied\r\n",
        "du: cannot read directory `/proc/660/task/660/ns': Permission denied\r\n",
        "du: cannot read directory `/proc/660/fd': Permission denied\r\n",
        "du: cannot read directory `/proc/660/fdinfo': Permission denied\r\n",
        "du: cannot read directory `/proc/660/ns': Permission denied\r\n",
        "du: cannot read directory `/proc/669/task/669/fd': Permission denied\r\n",
        "du: cannot read directory `/proc/669/task/669/fdinfo': Permission denied\r\n",
        "du: cannot read directory `/proc/669/task/669/ns': Permission denied\r\n",
        "du: cannot read directory `/proc/669/fd': Permission denied\r\n",
        "du: cannot read directory `/proc/669/fdinfo': Permission denied\r\n",
        "du: cannot read directory `/proc/669/ns': Permission denied\r\n",
        "du: cannot read directory `/proc/673/task/673/fd': Permission denied\r\n",
        "du: cannot read directory `/proc/673/task/673/fdinfo': Permission denied\r\n",
        "du: cannot read directory `/proc/673/task/673/ns': Permission denied\r\n",
        "du: cannot read directory `/proc/673/fd': Permission denied\r\n",
        "du: cannot read directory `/proc/673/fdinfo': Permission denied\r\n",
        "du: cannot read directory `/proc/673/ns': Permission denied\r\n",
        "du: cannot read directory `/proc/674/task/674/fd': Permission denied\r\n",
        "du: cannot read directory `/proc/674/task/674/fdinfo': Permission denied\r\n",
        "du: cannot read directory `/proc/674/task/674/ns': Permission denied\r\n",
        "du: cannot read directory `/proc/674/fd': Permission denied\r\n",
        "du: cannot read directory `/proc/674/fdinfo': Permission denied\r\n",
        "du: cannot read directory `/proc/674/ns': Permission denied\r\n",
        "du: cannot read directory `/proc/763/task/763/fd': Permission denied\r\n",
        "du: cannot read directory `/proc/763/task/763/fdinfo': Permission denied\r\n",
        "du: cannot read directory `/proc/763/task/763/ns': Permission denied\r\n",
        "du: cannot read directory `/proc/763/task/766/fd': Permission denied\r\n",
        "du: cannot read directory `/proc/763/task/766/fdinfo': Permission denied\r\n",
        "du: cannot read directory `/proc/763/task/766/ns': Permission denied\r\n",
        "du: cannot read directory `/proc/763/task/767/fd': Permission denied\r\n",
        "du: cannot read directory `/proc/763/task/767/fdinfo': Permission denied\r\n",
        "du: cannot read directory `/proc/763/task/767/ns': Permission denied\r\n",
        "du: cannot read directory `/proc/763/task/768/fd': Permission denied\r\n",
        "du: cannot read directory `/proc/763/task/768/fdinfo': Permission denied\r\n",
        "du: cannot read directory `/proc/763/task/768/ns': Permission denied\r\n",
        "du: cannot read directory `/proc/763/task/769/fd': Permission denied\r\n",
        "du: cannot read directory `/proc/763/task/769/fdinfo': Permission denied\r\n",
        "du: cannot read directory `/proc/763/task/769/ns': Permission denied\r\n",
        "du: cannot read directory `/proc/763/task/770/fd': Permission denied\r\n",
        "du: cannot read directory `/proc/763/task/770/fdinfo': Permission denied\r\n",
        "du: cannot read directory `/proc/763/task/770/ns': Permission denied\r\n",
        "du: cannot read directory `/proc/763/task/771/fd': Permission denied\r\n",
        "du: cannot read directory `/proc/763/task/771/fdinfo': Permission denied\r\n",
        "du: cannot read directory `/proc/763/task/771/ns': Permission denied\r\n",
        "du: cannot read directory `/proc/763/task/772/fd': Permission denied\r\n",
        "du: cannot read directory `/proc/763/task/772/fdinfo': Permission denied\r\n",
        "du: cannot read directory `/proc/763/task/772/ns': Permission denied\r\n",
        "du: cannot read directory `/proc/763/task/773/fd': Permission denied\r\n",
        "du: cannot read directory `/proc/763/task/773/fdinfo': Permission denied\r\n",
        "du: cannot read directory `/proc/763/task/773/ns': Permission denied\r\n",
        "du: cannot read directory `/proc/763/task/774/fd': Permission denied\r\n",
        "du: cannot read directory `/proc/763/task/774/fdinfo': Permission denied\r\n",
        "du: cannot read directory `/proc/763/task/774/ns': Permission denied\r\n",
        "du: cannot read directory `/proc/763/task/775/fd': Permission denied\r\n",
        "du: cannot read directory `/proc/763/task/775/fdinfo': Permission denied\r\n",
        "du: cannot read directory `/proc/763/task/775/ns': Permission denied\r\n",
        "du: cannot read directory `/proc/763/task/776/fd': Permission denied\r\n",
        "du: cannot read directory `/proc/763/task/776/fdinfo': Permission denied\r\n",
        "du: cannot read directory `/proc/763/task/776/ns': Permission denied\r\n",
        "du: cannot read directory `/proc/763/task/777/fd': Permission denied\r\n",
        "du: cannot read directory `/proc/763/task/777/fdinfo': Permission denied\r\n",
        "du: cannot read directory `/proc/763/task/777/ns': Permission denied\r\n",
        "du: cannot read directory `/proc/763/task/778/fd': Permission denied\r\n",
        "du: cannot read directory `/proc/763/task/778/fdinfo': Permission denied\r\n",
        "du: cannot read directory `/proc/763/task/778/ns': Permission denied\r\n",
        "du: cannot read directory `/proc/763/task/779/fd': Permission denied\r\n",
        "du: cannot read directory `/proc/763/task/779/fdinfo': Permission denied\r\n",
        "du: cannot read directory `/proc/763/task/779/ns': Permission denied\r\n",
        "du: cannot read directory `/proc/763/task/780/fd': Permission denied\r\n",
        "du: cannot read directory `/proc/763/task/780/fdinfo': Permission denied\r\n",
        "du: cannot read directory `/proc/763/task/780/ns': Permission denied\r\n",
        "du: cannot read directory `/proc/763/task/781/fd': Permission denied\r\n",
        "du: cannot read directory `/proc/763/task/781/fdinfo': Permission denied\r\n",
        "du: cannot read directory `/proc/763/task/781/ns': Permission denied\r\n",
        "du: cannot read directory `/proc/763/task/782/fd': Permission denied\r\n",
        "du: cannot read directory `/proc/763/task/782/fdinfo': Permission denied\r\n",
        "du: cannot read directory `/proc/763/task/782/ns': Permission denied\r\n",
        "du: cannot read directory `/proc/763/task/783/fd': Permission denied\r\n",
        "du: cannot read directory `/proc/763/task/783/fdinfo': Permission denied\r\n",
        "du: cannot read directory `/proc/763/task/783/ns': Permission denied\r\n",
        "du: cannot read directory `/proc/763/task/784/fd': Permission denied\r\n",
        "du: cannot read directory `/proc/763/task/784/fdinfo': Permission denied\r\n",
        "du: cannot read directory `/proc/763/task/784/ns': Permission denied\r\n",
        "du: cannot read directory `/proc/763/task/785/fd': Permission denied\r\n",
        "du: cannot read directory `/proc/763/task/785/fdinfo': Permission denied\r\n",
        "du: cannot read directory `/proc/763/task/785/ns': Permission denied\r\n",
        "du: cannot read directory `/proc/763/task/786/fd': Permission denied\r\n",
        "du: cannot read directory `/proc/763/task/786/fdinfo': Permission denied\r\n",
        "du: cannot read directory `/proc/763/task/786/ns': Permission denied\r\n",
        "du: cannot read directory `/proc/763/task/787/fd': Permission denied\r\n",
        "du: cannot read directory `/proc/763/task/787/fdinfo': Permission denied\r\n",
        "du: cannot read directory `/proc/763/task/787/ns': Permission denied\r\n",
        "du: cannot read directory `/proc/763/task/788/fd': Permission denied\r\n",
        "du: cannot read directory `/proc/763/task/788/fdinfo': Permission denied\r\n",
        "du: cannot read directory `/proc/763/task/788/ns': Permission denied\r\n",
        "du: cannot read directory `/proc/763/task/789/fd': Permission denied\r\n",
        "du: cannot read directory `/proc/763/task/789/fdinfo': Permission denied\r\n",
        "du: cannot read directory `/proc/763/task/789/ns': Permission denied\r\n",
        "du: cannot read directory `/proc/763/task/790/fd': Permission denied\r\n",
        "du: cannot read directory `/proc/763/task/790/fdinfo': Permission denied\r\n",
        "du: cannot read directory `/proc/763/task/790/ns': Permission denied\r\n",
        "du: cannot read directory `/proc/763/task/791/fd': Permission denied\r\n",
        "du: cannot read directory `/proc/763/task/791/fdinfo': Permission denied\r\n",
        "du: cannot read directory `/proc/763/task/791/ns': Permission denied\r\n",
        "du: cannot read directory `/proc/763/task/792/fd': Permission denied\r\n",
        "du: cannot read directory `/proc/763/task/792/fdinfo': Permission denied\r\n",
        "du: cannot read directory `/proc/763/task/792/ns': Permission denied\r\n",
        "du: cannot read directory `/proc/763/task/793/fd': Permission denied\r\n",
        "du: cannot read directory `/proc/763/task/793/fdinfo': Permission denied\r\n",
        "du: cannot read directory `/proc/763/task/793/ns': Permission denied\r\n",
        "du: cannot read directory `/proc/763/task/794/fd': Permission denied\r\n",
        "du: cannot read directory `/proc/763/task/794/fdinfo': Permission denied\r\n",
        "du: cannot read directory `/proc/763/task/794/ns': Permission denied\r\n",
        "du: cannot read directory `/proc/763/task/795/fd': Permission denied\r\n",
        "du: cannot read directory `/proc/763/task/795/fdinfo': Permission denied\r\n",
        "du: cannot read directory `/proc/763/task/795/ns': Permission denied\r\n",
        "du: cannot read directory `/proc/763/task/796/fd': Permission denied\r\n",
        "du: cannot read directory `/proc/763/task/796/fdinfo': Permission denied\r\n",
        "du: cannot read directory `/proc/763/task/796/ns': Permission denied\r\n",
        "du: cannot read directory `/proc/763/task/797/fd': Permission denied\r\n",
        "du: cannot read directory `/proc/763/task/797/fdinfo': Permission denied\r\n",
        "du: cannot read directory `/proc/763/task/797/ns': Permission denied\r\n",
        "du: cannot read directory `/proc/763/task/798/fd': Permission denied\r\n",
        "du: cannot read directory `/proc/763/task/798/fdinfo': Permission denied\r\n",
        "du: cannot read directory `/proc/763/task/798/ns': Permission denied\r\n",
        "du: cannot read directory `/proc/763/task/799/fd': Permission denied\r\n",
        "du: cannot read directory `/proc/763/task/799/fdinfo': Permission denied\r\n",
        "du: cannot read directory `/proc/763/task/799/ns': Permission denied\r\n",
        "du: cannot read directory `/proc/763/task/800/fd': Permission denied\r\n",
        "du: cannot read directory `/proc/763/task/800/fdinfo': Permission denied\r\n",
        "du: cannot read directory `/proc/763/task/800/ns': Permission denied\r\n",
        "du: cannot read directory `/proc/763/task/801/fd': Permission denied\r\n",
        "du: cannot read directory `/proc/763/task/801/fdinfo': Permission denied\r\n",
        "du: cannot read directory `/proc/763/task/801/ns': Permission denied\r\n",
        "du: cannot read directory `/proc/763/task/802/fd': Permission denied\r\n",
        "du: cannot read directory `/proc/763/task/802/fdinfo': Permission denied\r\n",
        "du: cannot read directory `/proc/763/task/802/ns': Permission denied\r\n",
        "du: cannot read directory `/proc/763/task/803/fd': Permission denied\r\n",
        "du: cannot read directory `/proc/763/task/803/fdinfo': Permission denied\r\n",
        "du: cannot read directory `/proc/763/task/803/ns': Permission denied\r\n",
        "du: cannot read directory `/proc/763/task/804/fd': Permission denied\r\n",
        "du: cannot read directory `/proc/763/task/804/fdinfo': Permission denied\r\n",
        "du: cannot read directory `/proc/763/task/804/ns': Permission denied\r\n",
        "du: cannot read directory `/proc/763/task/805/fd': Permission denied\r\n",
        "du: cannot read directory `/proc/763/task/805/fdinfo': Permission denied\r\n",
        "du: cannot read directory `/proc/763/task/805/ns': Permission denied\r\n",
        "du: cannot read directory `/proc/763/task/806/fd': Permission denied\r\n",
        "du: cannot read directory `/proc/763/task/806/fdinfo': Permission denied\r\n",
        "du: cannot read directory `/proc/763/task/806/ns': Permission denied\r\n",
        "du: cannot read directory `/proc/763/task/807/fd': Permission denied\r\n",
        "du: cannot read directory `/proc/763/task/807/fdinfo': Permission denied\r\n",
        "du: cannot read directory `/proc/763/task/807/ns': Permission denied"
       ]
      },
      {
       "output_type": "stream",
       "stream": "stdout",
       "text": [
        "\r\n",
        "du: cannot read directory `/proc/763/task/808/fd': Permission denied\r\n",
        "du: cannot read directory `/proc/763/task/808/fdinfo': Permission denied\r\n",
        "du: cannot read directory `/proc/763/task/808/ns': Permission denied\r\n",
        "du: cannot read directory `/proc/763/task/809/fd': Permission denied\r\n",
        "du: cannot read directory `/proc/763/task/809/fdinfo': Permission denied\r\n",
        "du: cannot read directory `/proc/763/task/809/ns': Permission denied\r\n",
        "du: cannot read directory `/proc/763/task/810/fd': Permission denied\r\n",
        "du: cannot read directory `/proc/763/task/810/fdinfo': Permission denied\r\n",
        "du: cannot read directory `/proc/763/task/810/ns': Permission denied\r\n",
        "du: cannot read directory `/proc/763/task/811/fd': Permission denied\r\n",
        "du: cannot read directory `/proc/763/task/811/fdinfo': Permission denied\r\n",
        "du: cannot read directory `/proc/763/task/811/ns': Permission denied\r\n",
        "du: cannot read directory `/proc/763/task/812/fd': Permission denied\r\n",
        "du: cannot read directory `/proc/763/task/812/fdinfo': Permission denied\r\n",
        "du: cannot read directory `/proc/763/task/812/ns': Permission denied\r\n",
        "du: cannot read directory `/proc/763/task/813/fd': Permission denied\r\n",
        "du: cannot read directory `/proc/763/task/813/fdinfo': Permission denied\r\n",
        "du: cannot read directory `/proc/763/task/813/ns': Permission denied\r\n",
        "du: cannot read directory `/proc/763/task/814/fd': Permission denied\r\n",
        "du: cannot read directory `/proc/763/task/814/fdinfo': Permission denied\r\n",
        "du: cannot read directory `/proc/763/task/814/ns': Permission denied\r\n",
        "du: cannot read directory `/proc/763/task/815/fd': Permission denied\r\n",
        "du: cannot read directory `/proc/763/task/815/fdinfo': Permission denied\r\n",
        "du: cannot read directory `/proc/763/task/815/ns': Permission denied\r\n",
        "du: cannot read directory `/proc/763/task/816/fd': Permission denied\r\n",
        "du: cannot read directory `/proc/763/task/816/fdinfo': Permission denied\r\n",
        "du: cannot read directory `/proc/763/task/816/ns': Permission denied\r\n",
        "du: cannot read directory `/proc/763/task/817/fd': Permission denied\r\n",
        "du: cannot read directory `/proc/763/task/817/fdinfo': Permission denied\r\n",
        "du: cannot read directory `/proc/763/task/817/ns': Permission denied\r\n",
        "du: cannot read directory `/proc/763/task/818/fd': Permission denied\r\n",
        "du: cannot read directory `/proc/763/task/818/fdinfo': Permission denied\r\n",
        "du: cannot read directory `/proc/763/task/818/ns': Permission denied\r\n",
        "du: cannot read directory `/proc/763/task/819/fd': Permission denied\r\n",
        "du: cannot read directory `/proc/763/task/819/fdinfo': Permission denied\r\n",
        "du: cannot read directory `/proc/763/task/819/ns': Permission denied\r\n",
        "du: cannot read directory `/proc/763/task/820/fd': Permission denied\r\n",
        "du: cannot read directory `/proc/763/task/820/fdinfo': Permission denied\r\n",
        "du: cannot read directory `/proc/763/task/820/ns': Permission denied\r\n",
        "du: cannot read directory `/proc/763/task/821/fd': Permission denied\r\n",
        "du: cannot read directory `/proc/763/task/821/fdinfo': Permission denied\r\n",
        "du: cannot read directory `/proc/763/task/821/ns': Permission denied\r\n",
        "du: cannot read directory `/proc/763/task/822/fd': Permission denied\r\n",
        "du: cannot read directory `/proc/763/task/822/fdinfo': Permission denied\r\n",
        "du: cannot read directory `/proc/763/task/822/ns': Permission denied\r\n",
        "du: cannot read directory `/proc/763/task/823/fd': Permission denied\r\n",
        "du: cannot read directory `/proc/763/task/823/fdinfo': Permission denied\r\n",
        "du: cannot read directory `/proc/763/task/823/ns': Permission denied\r\n",
        "du: cannot read directory `/proc/763/task/824/fd': Permission denied\r\n",
        "du: cannot read directory `/proc/763/task/824/fdinfo': Permission denied\r\n",
        "du: cannot read directory `/proc/763/task/824/ns': Permission denied\r\n",
        "du: cannot read directory `/proc/763/task/825/fd': Permission denied\r\n",
        "du: cannot read directory `/proc/763/task/825/fdinfo': Permission denied\r\n",
        "du: cannot read directory `/proc/763/task/825/ns': Permission denied\r\n",
        "du: cannot read directory `/proc/763/task/826/fd': Permission denied\r\n",
        "du: cannot read directory `/proc/763/task/826/fdinfo': Permission denied\r\n",
        "du: cannot read directory `/proc/763/task/826/ns': Permission denied\r\n",
        "du: cannot read directory `/proc/763/task/827/fd': Permission denied\r\n",
        "du: cannot read directory `/proc/763/task/827/fdinfo': Permission denied\r\n",
        "du: cannot read directory `/proc/763/task/827/ns': Permission denied\r\n",
        "du: cannot read directory `/proc/763/task/830/fd': Permission denied\r\n",
        "du: cannot read directory `/proc/763/task/830/fdinfo': Permission denied\r\n",
        "du: cannot read directory `/proc/763/task/830/ns': Permission denied\r\n",
        "du: cannot read directory `/proc/763/task/832/fd': Permission denied\r\n",
        "du: cannot read directory `/proc/763/task/832/fdinfo': Permission denied\r\n",
        "du: cannot read directory `/proc/763/task/832/ns': Permission denied\r\n",
        "du: cannot read directory `/proc/763/fd': Permission denied\r\n",
        "du: cannot read directory `/proc/763/fdinfo': Permission denied\r\n",
        "du: cannot read directory `/proc/763/ns': Permission denied\r\n",
        "du: cannot read directory `/proc/765/task/765/fd': Permission denied\r\n",
        "du: cannot read directory `/proc/765/task/765/fdinfo': Permission denied\r\n",
        "du: cannot read directory `/proc/765/task/765/ns': Permission denied\r\n",
        "du: cannot read directory `/proc/765/task/829/fd': Permission denied\r\n",
        "du: cannot read directory `/proc/765/task/829/fdinfo': Permission denied\r\n",
        "du: cannot read directory `/proc/765/task/829/ns': Permission denied\r\n",
        "du: cannot read directory `/proc/765/fd': Permission denied\r\n",
        "du: cannot read directory `/proc/765/fdinfo': Permission denied\r\n",
        "du: cannot read directory `/proc/765/ns': Permission denied\r\n",
        "du: cannot read directory `/proc/835/task/835/fd': Permission denied\r\n",
        "du: cannot read directory `/proc/835/task/835/fdinfo': Permission denied\r\n",
        "du: cannot read directory `/proc/835/task/835/ns': Permission denied\r\n",
        "du: cannot read directory `/proc/835/task/838/fd': Permission denied\r\n",
        "du: cannot read directory `/proc/835/task/838/fdinfo': Permission denied\r\n",
        "du: cannot read directory `/proc/835/task/838/ns': Permission denied\r\n",
        "du: cannot read directory `/proc/835/fd': Permission denied\r\n",
        "du: cannot read directory `/proc/835/fdinfo': Permission denied\r\n",
        "du: cannot read directory `/proc/835/ns': Permission denied\r\n",
        "du: cannot read directory `/proc/992/task/992/fd': Permission denied\r\n",
        "du: cannot read directory `/proc/992/task/992/fdinfo': Permission denied\r\n",
        "du: cannot read directory `/proc/992/task/992/ns': Permission denied\r\n",
        "du: cannot read directory `/proc/992/fd': Permission denied\r\n",
        "du: cannot read directory `/proc/992/fdinfo': Permission denied\r\n",
        "du: cannot read directory `/proc/992/ns': Permission denied\r\n"
       ]
      },
      {
       "output_type": "stream",
       "stream": "stdout",
       "text": [
        "du: cannot read directory `/proc/2487/task/2487/fd': Permission denied\r\n",
        "du: cannot read directory `/proc/2487/task/2487/fdinfo': Permission denied\r\n",
        "du: cannot read directory `/proc/2487/task/2487/ns': Permission denied\r\n",
        "du: cannot read directory `/proc/2487/fd': Permission denied\r\n",
        "du: cannot read directory `/proc/2487/fdinfo': Permission denied\r\n",
        "du: cannot read directory `/proc/2487/ns': Permission denied\r\n",
        "du: cannot access `/proc/2556/task/2556/fd/4': No such file or directory\r\n",
        "du: cannot access `/proc/2556/task/2556/fdinfo/4': No such file or directory\r\n",
        "du: cannot access `/proc/2556/fd/4': No such file or directory\r\n",
        "du: cannot access `/proc/2556/fdinfo/4': No such file or directory\r\n",
        "0\t/proc\r\n",
        "du: cannot read directory `/root': Permission denied\r\n",
        "4\t/root\r\n",
        "du: cannot read directory `/run/screen/S-root': Permission denied\r\n",
        "168\t/run\r\n",
        "8048\t/sbin\r\n",
        "4\t/selinux\r\n",
        "4\t/srv\r\n"
       ]
      },
      {
       "output_type": "stream",
       "stream": "stdout",
       "text": [
        "du: cannot read directory `/sys/kernel/debug': Permission denied\r\n",
        "0\t/sys\r\n"
       ]
      },
      {
       "output_type": "stream",
       "stream": "stdout",
       "text": [
        "du: cannot read directory `/tmp/upgrade-rw-I_IN1X': Permission denied\r\n",
        "6948\t/tmp\r\n"
       ]
      },
      {
       "output_type": "stream",
       "stream": "stdout",
       "text": [
        "2476848\t/usr\r\n"
       ]
      },
      {
       "output_type": "stream",
       "stream": "stdout",
       "text": [
        "du: cannot read directory `/var/cache/ldconfig': Permission denied\r\n"
       ]
      },
      {
       "output_type": "stream",
       "stream": "stdout",
       "text": [
        "du: cannot read directory `/var/lib/polkit-1': Permission denied\r\n",
        "du: cannot read directory `/var/spool/cron/atjobs': Permission denied\r\n",
        "du: cannot read directory `/var/spool/cron/atspool': Permission denied\r\n",
        "du: cannot read directory `/var/spool/cron/crontabs': Permission denied\r\n",
        "488076\t/var\r\n",
        "0\t/vmlinuz\r\n"
       ]
      }
     ],
     "prompt_number": 62
    },
    {
     "cell_type": "code",
     "collapsed": false,
     "input": [],
     "language": "python",
     "metadata": {},
     "outputs": [
      {
       "output_type": "stream",
       "stream": "stdout",
       "text": [
        "rm: cannot remove `tmp': Is a directory\r\n"
       ]
      }
     ],
     "prompt_number": 56
    },
    {
     "cell_type": "markdown",
     "metadata": {},
     "source": [
      "## Interacting with external programs through pipes"
     ]
    },
    {
     "cell_type": "code",
     "collapsed": false,
     "input": [],
     "language": "python",
     "metadata": {},
     "outputs": []
    },
    {
     "cell_type": "code",
     "collapsed": false,
     "input": [
      "# Run a unix command and capture stdout\n",
      "# Here we run the command top and filter out all but the lines \n",
      "# where the percent CPU used is larger than 0.\n",
      "\n",
      "import subprocess\n",
      "\n",
      "output = subprocess.check_output(['top', '-b','-n','1'])\n",
      "print 'Have %d bytes in output' % len(output)\n",
      "\n",
      "lines=output.splitlines() # break output into lines\n",
      "len(lines)\n",
      "for line in lines:\n",
      "    percent = line[47:50]\n",
      "    try:\n",
      "        p=float(percent)\n",
      "    except:\n",
      "        continue\n",
      "    if p>0:\n",
      "        print line,"
     ],
     "language": "python",
     "metadata": {},
     "outputs": [
      {
       "output_type": "stream",
       "stream": "stdout",
       "text": [
        "Have 1819 bytes in output\n",
        "    1 root      20   0 24336 1492  536 S  0.0  0.2   0:00.40 init               \n"
       ]
      }
     ],
     "prompt_number": 78
    },
    {
     "cell_type": "raw",
     "metadata": {},
     "source": [
      "    1 root      20   0 24336 1492  536 S  0.0  0.2   0:00.40 init       \n",
      "0123456789012345678901234567890123456789012345678901234567890123456789\n",
      "0         1         2         3         4         5         6         "
     ]
    },
    {
     "cell_type": "code",
     "collapsed": false,
     "input": [
      "# "
     ],
     "language": "python",
     "metadata": {},
     "outputs": []
    }
   ],
   "metadata": {}
  }
 ]
}