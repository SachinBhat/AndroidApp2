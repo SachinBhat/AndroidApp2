{
 "metadata": {
  "name": "",
  "signature": "sha256:cd7ea563edd8397e25cb8f4bdeedafbc997eb65d47817b4dbe85a7c8824352be"
 },
 "nbformat": 3,
 "nbformat_minor": 0,
 "worksheets": [
  {
   "cells": [
    {
     "cell_type": "markdown",
     "metadata": {},
     "source": [
      "### Excercise 1: reconstruct a file from segments."
     ]
    },
    {
     "cell_type": "code",
     "collapsed": false,
     "input": [
      "%cd ~/DSE200/data/NLTK/Chopped/\n",
      "!ls -F"
     ],
     "language": "python",
     "metadata": {},
     "outputs": []
    },
    {
     "cell_type": "code",
     "collapsed": false,
     "input": [
      "!cat F11*"
     ],
     "language": "python",
     "metadata": {},
     "outputs": []
    },
    {
     "cell_type": "markdown",
     "metadata": {},
     "source": [
      "Each of the files F* is a short segment of the original text file.\n",
      "\n",
      "The format of the file is `(n1: 5 char int),(n2: 5 char int),string`\n",
      "The string represents the content of the file in the range `[n1:n2]`\n",
      "\n",
      "Your task is to reconstruct the original file."
     ]
    },
    {
     "cell_type": "code",
     "collapsed": false,
     "input": [
      "#Issue a UNIX command to create a file called Caesar that contains the following lines (include the mistakes!!)\n",
      "\n",
      "Text = \"\"\"Caesar, a great general, is petitioned by several citizens to show clemency to one of his enemies.\n",
      "He declines, pompously speaking of himself in the third person. The group of conspirators then proceeds to stab him.\n",
      "With his dying breath he gasps, \"Et tu, Brute? (\"And you, Brutus?\") Thus falls Caesar.\" \n",
      "The conspirators exult, and Shakespeare inserts a self-referential joke as Cassius says, \n",
      "\"How many ages hence shall this our lofty scene be acted over in states unborn and accents yet unknown!\"\n",
      "\"\"\"\"\n",
      "\n",
      "#Change the permissions of this file to 666\n",
      "#Issue a UNIX command to determine the file type\n",
      "#Isue a uniix comannd to count the number of words in the above text that contains no vowels\n",
      "#Replace the word Caesar wherever it is found in the entire text to Leonidas\n",
      "#Make a copy of the above file without the first and last lines of the text and rename this file to Leonidas"
     ],
     "language": "python",
     "metadata": {},
     "outputs": []
    },
    {
     "cell_type": "code",
     "collapsed": false,
     "input": [
      "#What is the command to count lines,words and characters in a file and how do you make this comand display only linecount?\n",
      "#Also write a single command that lists the files in the current directory that begin with upper case letters"
     ],
     "language": "python",
     "metadata": {},
     "outputs": []
    },
    {
     "cell_type": "code",
     "collapsed": false,
     "input": [
      "#Combine the files Caesar and Leonidas and save the combined file as kings\n",
      "#Display the contents of this file uusing more command\n",
      "#Sort this file in reverse alphabetic order and display it by piping it into more"
     ],
     "language": "python",
     "metadata": {},
     "outputs": []
    }
   ],
   "metadata": {}
  }
 ]
}