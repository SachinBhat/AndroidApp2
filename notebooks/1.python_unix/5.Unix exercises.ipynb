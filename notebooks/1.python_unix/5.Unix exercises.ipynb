{
 "metadata": {
  "name": "",
  "signature": "sha256:e8942b4a64d672a253fb36154b6c251c83595206b4e4ea38c6e19812172b4795"
 },
 "nbformat": 3,
 "nbformat_minor": 0,
 "worksheets": [
  {
   "cells": [
    {
     "cell_type": "markdown",
     "metadata": {},
     "source": [
      "### Excercise 1: reconstruct a file from segments."
     ]
    },
    {
     "cell_type": "code",
     "collapsed": false,
     "input": [
      "%cd ~/DSE200/data/NLTK/Chopped/\n",
      "!ls -F"
     ],
     "language": "python",
     "metadata": {},
     "outputs": [
      {
       "output_type": "stream",
       "stream": "stdout",
       "text": [
        "/home/ubuntu/DSE200/data/NLTK/Chopped\n",
        "F0    F113  F129  F143\tF158  F174  F191  F206\tF222  F25  F40\tF55  F70  F87\r\n",
        "F1    F114  F13   F144\tF159  F175  F192  F207\tF223  F26  F41\tF56  F71  F88\r\n",
        "F10   F115  F130  F145\tF16   F176  F193  F208\tF224  F27  F42\tF57  F72  F89\r\n",
        "F100  F116  F131  F146\tF160  F177  F194  F209\tF225  F28  F43\tF58  F73  F9\r\n",
        "F101  F117  F132  F147\tF161  F178  F195  F210\tF226  F29  F44\tF59  F74  F90\r\n",
        "F102  F118  F133  F148\tF162  F179  F196  F211\tF227  F3   F45\tF6   F75  F91\r\n",
        "F103  F119  F134  F149\tF163  F180  F197  F212\tF228  F30  F46\tF60  F76  F92\r\n",
        "F104  F12   F135  F15\tF165  F181  F198  F214\tF229  F31  F47\tF61  F77  F93\r\n",
        "F105  F120  F136  F150\tF166  F182  F199  F215\tF23   F32  F48\tF62  F78  F94\r\n",
        "F106  F121  F137  F151\tF167  F183  F2\t  F216\tF230  F33  F49\tF63  F79  F95\r\n",
        "F107  F122  F138  F152\tF168  F184  F200  F217\tF231  F34  F5\tF64  F8   F96\r\n",
        "F108  F123  F139  F153\tF169  F185  F201  F218\tF232  F35  F50\tF65  F80  F97\r\n",
        "F11   F124  F14   F154\tF170  F186  F202  F219\tF233  F36  F51\tF66  F81  F98\r\n",
        "F110  F126  F140  F155\tF171  F188  F203  F22\tF234  F37  F52\tF68  F82  F99\r\n",
        "F111  F127  F141  F156\tF172  F189  F204  F220\tF235  F38  F53\tF69  F84\r\n",
        "F112  F128  F142  F157\tF173  F19   F205  F221\tF24   F4   F54\tF7   F85\r\n"
       ]
      }
     ],
     "prompt_number": 9
    },
    {
     "cell_type": "code",
     "collapsed": false,
     "input": [
      "!cat F11*"
     ],
     "language": "python",
     "metadata": {},
     "outputs": [
      {
       "output_type": "stream",
       "stream": "stdout",
       "text": [
        " 1446 1448te\r\n",
        "  116  121ce ''\r\n",
        "  483  500rwood Pye to inve\r\n",
        "  220  224 Exe\r\n",
        "  171  185rther said in \r\n",
        " 1627 1639nnel policie\r\n",
        "  129  130y\r\n",
        "  999 1002ave\r\n"
       ]
      },
      {
       "output_type": "stream",
       "stream": "stdout",
       "text": [
        " 1464 1487 reduce the cost of adm\r\n",
        "  300  301h\r\n",
        "  817  824jury sa\r\n"
       ]
      }
     ],
     "prompt_number": 10
    },
    {
     "cell_type": "markdown",
     "metadata": {},
     "source": [
      "Each of the files F* is a short segment of the original text file.\n",
      "\n",
      "The format of the file is `(n1: 5 char int),(n2: 5 char int),string`\n",
      "The string represents the content of the file in the range `[n1:n2]`\n",
      "\n",
      "Your task is to reconstruct the original file."
     ]
    }
   ],
   "metadata": {}
  }
 ]
}