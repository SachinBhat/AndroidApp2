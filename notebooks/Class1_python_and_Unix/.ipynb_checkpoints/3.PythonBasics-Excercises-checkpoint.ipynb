{
 "metadata": {
  "name": "",
  "signature": "sha256:8e599f217b50cf475f3988c18587f5cb8a194a483cf306c00c11630019b0ccf8"
 },
 "nbformat": 3,
 "nbformat_minor": 0,
 "worksheets": [
  {
   "cells": [
    {
     "cell_type": "markdown",
     "metadata": {},
     "source": [
      "### Excercises"
     ]
    },
    {
     "cell_type": "code",
     "collapsed": false,
     "input": [
      "# (1) Compute the average of a list of numbers. use list comprehension.\n",
      "L=[23,32,121,22,1222.23,5]"
     ],
     "language": "python",
     "metadata": {},
     "outputs": []
    },
    {
     "cell_type": "code",
     "collapsed": false,
     "input": [
      "# (2) Compute the number of times each word occurs in the following text.\n",
      "# Transform all words to lower case. Output a list of\n",
      "#  word,count pairs, one pair per line sorted from highest to lowest count.\n",
      "\n",
      "Text=\"\"\"\n",
      "bands which have connected them with another, and to assume among the\n",
      "powers of the earth, the separate and equal station to which the Laws\n",
      "of Nature and of Nature's God entitle them, a decent respect to the\n",
      "opinions of mankind requires that they should declare the causes which\n",
      "impel them to the separation.  We hold these truths to be\n",
      "self-evident, that all men are created equal, that they are endowed by\n",
      "their Creator with certain unalienable Rights, that among these are\n",
      "Life, Liberty and the pursuit of Happiness.--That to secure these\n",
      "rights, Governments are instituted among Men, deriving their just\n",
      "powers from the consent of the governed, --That whenever any Form of\n",
      "Government becomes destructive of these ends, it is the Right of the\n",
      "People to alter or to abolish it, and to institute new Government,\n",
      "laying its foundation on such principles and organizing its powers in\n",
      "such form, as to them shall seem most likely to effect their Safety\n",
      "and Happiness. Prudence, indeed, will dictate that Governments long\n",
      "established should not be changed for light and transient causes; and\n",
      "accordingly all experience hath shewn, that mankind are more disposed\n",
      "to suffer, while evils are sufferable, than to right themselves by\n",
      "abolishing the forms to which they are accustomed. But when a long\n",
      "train of abuses and usurpations, pursuing invariably the same Object\n",
      "evinces a design to reduce them under absolute Despotism, it is their\n",
      "right, it is their duty, to throw off such Government, and to provide\n",
      "new Guards for their future security.--Such has been the patient\n",
      "sufferance of these Colonies; and such is now the necessity which\n",
      "constrains them to alter their former Systems of Government. The\n",
      "history of the present King of Great Britain is a history of repeated\n",
      "injuries and usurpations, all having in direct object the\n",
      "establishment of an absolute Tyranny over these States. To prove this,\n",
      "let Facts be submitted to a candid world.\n",
      "\"\"\"\n",
      "\n",
      "# First, we replace the punctuations marks with spaces\n",
      "for char in '-.,':\n",
      "    Text=Text.replace(char,' ')\n"
     ],
     "language": "python",
     "metadata": {},
     "outputs": []
    }
   ],
   "metadata": {}
  }
 ]
}