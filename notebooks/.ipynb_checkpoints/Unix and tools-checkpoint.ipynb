{
 "metadata": {
  "name": "",
  "signature": "sha256:e5dcb4d188dc3819690a2e249ff0909e77164e67d3e9c6e9c854328827f7858a"
 },
 "nbformat": 3,
 "nbformat_minor": 0,
 "worksheets": [
  {
   "cells": [
    {
     "cell_type": "markdown",
     "metadata": {},
     "source": [
      "## The unix system\n",
      "\n",
      "* Prepending commands with !\n",
      "* Files, directories and paths\n",
      "* AWS, virtual machines and AMI's\n",
      "* Bash scripts (just to know what they are)\n",
      "* grep, wc, sort\n",
      "* .bashrc, environmental variables, paths.\n",
      "* Packages and package manages (get-apt, Pypi, pip)\n",
      "* Groups and permissions\n",
      "* Git and Hithub\n"
     ]
    },
    {
     "cell_type": "markdown",
     "metadata": {},
     "source": [
      "## listing files\n",
      "* The `ls` command lists the files in the current directory\n",
      "* `ls -F` identifies each files as directory, executable, text\n",
      "* `ls -lrt`: \n",
      "    * `l` (long) lists extensive information about each file\n",
      "    * `rt` (reverse time): list files in reverse order in time."
     ]
    },
    {
     "cell_type": "code",
     "collapsed": false,
     "input": [
      "!ls"
     ],
     "language": "python",
     "metadata": {},
     "outputs": [
      {
       "output_type": "stream",
       "stream": "stdout",
       "text": [
        "Numpy and Cython.ipynb        PythonBasicDataTypes.ipynb\r\n",
        "PregnancyLengthAnalysis.ipynb Unix and tools.ipynb\r\n"
       ]
      }
     ],
     "prompt_number": 1
    },
    {
     "cell_type": "code",
     "collapsed": false,
     "input": [
      "!ls -F"
     ],
     "language": "python",
     "metadata": {},
     "outputs": [
      {
       "output_type": "stream",
       "stream": "stdout",
       "text": [
        "\u001b[34mDir1\u001b[m\u001b[m/                          PregnancyLengthAnalysis.ipynb  Unix and tools.ipynb\r\n",
        "Numpy and Cython.ipynb         PythonBasicDataTypes.ipynb\r\n"
       ]
      }
     ],
     "prompt_number": 1
    },
    {
     "cell_type": "code",
     "collapsed": false,
     "input": [
      "!ls -lrt"
     ],
     "language": "python",
     "metadata": {},
     "outputs": [
      {
       "output_type": "stream",
       "stream": "stdout",
       "text": [
        "total 184\r\n",
        "-rw-r--r--  1 yoavfreund  staff  33349 Jul 15 10:11 PregnancyLengthAnalysis.ipynb\r\n",
        "-rw-r--r--  1 yoavfreund  staff  48036 Aug 18 19:40 PythonBasicDataTypes.ipynb\r\n",
        "-rw-r--r--  1 yoavfreund  staff   3541 Sep  2 09:52 Numpy and Cython.ipynb\r\n",
        "-rw-r--r--  1 yoavfreund  staff    181 Sep  9 17:11 Unix and tools.ipynb\r\n"
       ]
      }
     ],
     "prompt_number": 2
    },
    {
     "cell_type": "code",
     "collapsed": false,
     "input": [
      "!mkdir Dir1\n",
      "!ls -F"
     ],
     "language": "python",
     "metadata": {},
     "outputs": [
      {
       "output_type": "stream",
       "stream": "stdout",
       "text": [
        "\u001b[34mDir1\u001b[m\u001b[m/                          PregnancyLengthAnalysis.ipynb  Unix and tools.ipynb\r\n",
        "Numpy and Cython.ipynb         PythonBasicDataTypes.ipynb\r\n"
       ]
      }
     ],
     "prompt_number": 3
    },
    {
     "cell_type": "markdown",
     "metadata": {},
     "source": [
      "## Navigating file paths"
     ]
    },
    {
     "cell_type": "code",
     "collapsed": false,
     "input": [
      "# pwd identifies the current working directory\n",
      "!pwd\n",
      "# the -P flag gives the true, rather than link-based directory\n",
      "!pwd -P"
     ],
     "language": "python",
     "metadata": {},
     "outputs": [
      {
       "output_type": "stream",
       "stream": "stdout",
       "text": [
        "/Users/yoavfreund/DSE100/notebooks\r\n"
       ]
      },
      {
       "output_type": "stream",
       "stream": "stdout",
       "text": [
        "/Users/yoavfreund/academic.papers/Courses/DSE100/notebooks\r\n"
       ]
      }
     ],
     "prompt_number": 2
    },
    {
     "cell_type": "code",
     "collapsed": false,
     "input": [
      "# !cd causes unix to move to a different directory, but leaves python behind\n",
      "# \".\" corresponds to the current directory\n",
      "# \"..\" corresponds to the parent directory\n",
      "# \"../..\" corrsponds to the grandparent directory\n",
      "# etc\n",
      "!cd ..\n",
      "!pwd"
     ],
     "language": "python",
     "metadata": {},
     "outputs": [
      {
       "output_type": "stream",
       "stream": "stdout",
       "text": [
        "/Users/yoavfreund/DSE100/notebooks\r\n"
       ]
      }
     ],
     "prompt_number": 3
    },
    {
     "cell_type": "code",
     "collapsed": false,
     "input": [
      "# To actually change the directory use the magic %cd\n",
      "%cd ..\n",
      "!pwd "
     ],
     "language": "python",
     "metadata": {},
     "outputs": [
      {
       "output_type": "stream",
       "stream": "stdout",
       "text": [
        "/Users/yoavfreund/academic.papers\n",
        "/Users/yoavfreund/academic.papers\r\n"
       ]
      }
     ],
     "prompt_number": 7
    },
    {
     "cell_type": "code",
     "collapsed": false,
     "input": [
      "%cd /Users/yoavfreund/academic.papers/Courses/DSE100/notebooks/Dir1\n",
      "!ls"
     ],
     "language": "python",
     "metadata": {},
     "outputs": [
      {
       "output_type": "stream",
       "stream": "stdout",
       "text": [
        "/Users/yoavfreund/academic.papers/Courses/DSE100/notebooks/Dir1\n",
        "file0 file1 file2 file3 file4\r\n"
       ]
      }
     ],
     "prompt_number": 9
    },
    {
     "cell_type": "markdown",
     "metadata": {},
     "source": [
      "## Creating files and directories"
     ]
    },
    {
     "cell_type": "code",
     "collapsed": false,
     "input": [
      "# to create a file or update the time-stamp of the file use `touch`\n",
      "for i in range(10):\n",
      "    !touch file$i\n",
      "!ls -l"
     ],
     "language": "python",
     "metadata": {},
     "outputs": [
      {
       "output_type": "stream",
       "stream": "stdout",
       "text": [
        "total 0\r\n",
        "-rw-r--r--  1 yoavfreund  staff  0 Sep  9 17:41 file0\r\n",
        "-rw-r--r--  1 yoavfreund  staff  0 Sep  9 17:41 file1\r\n",
        "-rw-r--r--  1 yoavfreund  staff  0 Sep  9 17:41 file2\r\n",
        "-rw-r--r--  1 yoavfreund  staff  0 Sep  9 17:41 file3\r\n",
        "-rw-r--r--  1 yoavfreund  staff  0 Sep  9 17:41 file4\r\n",
        "-rw-r--r--  1 yoavfreund  staff  0 Sep  9 17:41 file5\r\n",
        "-rw-r--r--  1 yoavfreund  staff  0 Sep  9 17:41 file6\r\n",
        "-rw-r--r--  1 yoavfreund  staff  0 Sep  9 17:41 file7\r\n",
        "-rw-r--r--  1 yoavfreund  staff  0 Sep  9 17:41 file8\r\n",
        "-rw-r--r--  1 yoavfreund  staff  0 Sep  9 17:41 file9\r\n"
       ]
      }
     ],
     "prompt_number": 11
    },
    {
     "cell_type": "code",
     "collapsed": false,
     "input": [
      "# to create a directory, use `mkdir`\n",
      "for i in range(3):\n",
      "    !mkdir Dir$i\n",
      "!ls -F"
     ],
     "language": "python",
     "metadata": {},
     "outputs": [
      {
       "output_type": "stream",
       "stream": "stdout",
       "text": [
        "\u001b[34mDir0\u001b[m\u001b[m/  \u001b[34mDir1\u001b[m\u001b[m/  \u001b[34mDir2\u001b[m\u001b[m/  file0  file1  file2  file3  file4  file5  file6  file7  file8  file9\r\n"
       ]
      }
     ],
     "prompt_number": 12
    },
    {
     "cell_type": "markdown",
     "metadata": {},
     "source": [
      "## Removing files and directories"
     ]
    },
    {
     "cell_type": "code",
     "collapsed": false,
     "input": [
      "# to remove a file use the command `rm`\n",
      "for i in range(10):\n",
      "    !rm file$i\n",
      "!ls -l"
     ],
     "language": "python",
     "metadata": {},
     "outputs": [
      {
       "output_type": "stream",
       "stream": "stdout",
       "text": [
        "total 0\r\n",
        "drwxr-xr-x  2 yoavfreund  staff  68 Sep  9 17:43 \u001b[34mDir0\u001b[m\u001b[m\r\n",
        "drwxr-xr-x  2 yoavfreund  staff  68 Sep  9 17:43 \u001b[34mDir1\u001b[m\u001b[m\r\n",
        "drwxr-xr-x  2 yoavfreund  staff  68 Sep  9 17:43 \u001b[34mDir2\u001b[m\u001b[m\r\n"
       ]
      }
     ],
     "prompt_number": 13
    },
    {
     "cell_type": "code",
     "collapsed": false,
     "input": [
      "# to remove an empry directory, use 'rmdir'\n",
      "# If you want to remove a directory and everything that is in it use `rm -rf`. Note that this\n",
      "# is an irreversible action, it is NOT like moving a file to the trash bin.\n",
      "!rm -rf Dir*\n",
      "!ls -l"
     ],
     "language": "python",
     "metadata": {},
     "outputs": [],
     "prompt_number": 15
    },
    {
     "cell_type": "markdown",
     "metadata": {},
     "source": [
      "## Wildcards and glob"
     ]
    },
    {
     "cell_type": "code",
     "collapsed": false,
     "input": [],
     "language": "python",
     "metadata": {},
     "outputs": []
    },
    {
     "cell_type": "markdown",
     "metadata": {},
     "source": [
      "## Loading and saving files\n",
      "\n",
      "It is often useful to have a peek at the content of files.\n",
      "To do we have the unix commands `head` and `tail` and the magic command `%load`\n"
     ]
    },
    {
     "cell_type": "code",
     "collapsed": false,
     "input": [
      "!ls"
     ],
     "language": "python",
     "metadata": {},
     "outputs": [
      {
       "output_type": "stream",
       "stream": "stdout",
       "text": [
        "\u001b[34mDir1\u001b[m\u001b[m                          PregnancyLengthAnalysis.ipynb Unix and tools.ipynb\r\n",
        "Numpy and Cython.ipynb        PythonBasicDataTypes.ipynb\r\n"
       ]
      }
     ],
     "prompt_number": 19
    },
    {
     "cell_type": "markdown",
     "metadata": {},
     "source": [
      "## Processes"
     ]
    },
    {
     "cell_type": "code",
     "collapsed": false,
     "input": [
      "%cd ../data/\n",
      "!ls"
     ],
     "language": "python",
     "metadata": {},
     "outputs": [
      {
       "output_type": "stream",
       "stream": "stdout",
       "text": [
        "/Users/yoavfreund/academic.papers/Courses/DSE100/data\n",
        "\u001b[34mThinkStatsData\u001b[m\u001b[m\r\n"
       ]
      }
     ],
     "prompt_number": 20
    },
    {
     "cell_type": "markdown",
     "metadata": {},
     "source": [
      "## Pipes"
     ]
    },
    {
     "cell_type": "code",
     "collapsed": false,
     "input": [],
     "language": "python",
     "metadata": {},
     "outputs": []
    },
    {
     "cell_type": "markdown",
     "metadata": {},
     "source": [
      "## Interacting with external programs through pipes"
     ]
    },
    {
     "cell_type": "code",
     "collapsed": false,
     "input": [],
     "language": "python",
     "metadata": {},
     "outputs": []
    },
    {
     "cell_type": "markdown",
     "metadata": {},
     "source": [
      "## Excercises\n",
      "\n",
      "1. Combine the files in XXX to create a single text file."
     ]
    },
    {
     "cell_type": "code",
     "collapsed": false,
     "input": [],
     "language": "python",
     "metadata": {},
     "outputs": []
    }
   ],
   "metadata": {}
  }
 ]
}