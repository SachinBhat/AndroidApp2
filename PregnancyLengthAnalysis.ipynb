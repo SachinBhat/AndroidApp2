{
 "metadata": {
  "name": "",
  "signature": "sha256:17569a0e5467b61bab0eaf3bce72cca25dc046dc79b4ec5717641f117b1d9288"
 },
 "nbformat": 3,
 "nbformat_minor": 0,
 "worksheets": [
  {
   "cells": [
    {
     "cell_type": "markdown",
     "metadata": {},
     "source": [
      "### Birth Statistics Data ###\n",
      "\n",
      "This notebook's goal is to study the question: *Are first-born babis more likely to arrive late?*\n",
      "\n",
      "It is based on the book [Think Stats](http://www.greenteapress.com/thinkstats/)\n",
      "\n",
      "#### Loading the data ####\n",
      "The data we use is originally from NSFG (National Survey of Family Growth) and can also be downloaded from from [the data section of the Think Stats web site](http://www.greenteapress.com/thinkstats/nsfg.html).\n",
      "\n",
      "The file that we use in this notebook is `2002FemPreg.dat`\n",
      "\n",
      "As a first step we extract from the file `survey.py` (which is part of the [Think-Stats code examples zip file](http://www.greenteapress.com/thinkstats/thinkstats.code.zip)) a few lines that define the format of the file `2002FemPreg.dat`."
     ]
    },
    {
     "cell_type": "markdown",
     "metadata": {},
     "source": [
      "#### record format ###\n",
      "\n",
      "The data consists of records, one record per line, each record corresponds to a single birth. The fields of the record are organized in a **Location specific** format, as defined below.\n",
      "\n",
      "* **field:** The name of the attribute where the field will be stored. Most of the time I use the name from the NSFG codebook, converted to all lower case.\n",
      "* **start:** The index of the starting column for this field. For example, the indices for caseid are 1\u201312.\n",
      "* **end:** The index of the ending column for this field. Unlike in Python,the end index is inclusive.\n",
      "* **conversion function:** A function that takes a string and converts it to an appropriate type. You can use built-in functions, like int and float, or user-defined functions. If the conversion fails, the attribute gets the string value \u2019NA\u2019. If you don\u2019t want to convert a field, you can provide an identity function or use str.\n"
     ]
    },
    {
     "cell_type": "code",
     "collapsed": false,
     "input": [
      "## This list of tuples defines the names and locations of the elements.\n",
      "fields=[\n",
      "    ('caseid', 1, 12, int),\n",
      "    ('nbrnaliv', 22, 22, int),\n",
      "    ('babysex', 56, 56, int),\n",
      "    ('birthwgt_lb', 57, 58, int),\n",
      "    ('birthwgt_oz', 59, 60, int),\n",
      "    ('prglength', 275, 276, int),\n",
      "    ('outcome', 277, 277, int),\n",
      "    ('birthord', 278, 279, int),\n",
      "    ('agepreg', 284, 287, int),\n",
      "    ('finalwgt', 423, 440, float),\n",
      "]"
     ],
     "language": "python",
     "metadata": {},
     "outputs": []
    },
    {
     "cell_type": "markdown",
     "metadata": {},
     "source": [
      "#### Description of the fields\n",
      "\n",
      "* **caseid** is the integer ID of the respondent.\n",
      "* **nbrnaliv** number of babies born together (twins, triplets etc.)\n",
      "* **babysex** 1=male, 2=female\n",
      "* **birthwgt_lb** weight of newborn (pounds)\n",
      "* **birthwgt_oz** weight of newborn (ounces)\n",
      "* **prglength** is the integer duration of the pregnancy in weeks.\n",
      "* **outcome** is an integer code for the outcome of the pregnancy. The code 1 indicates a live birth.\n",
      "* **birthord** is the integer birth order of each live birth; for example, the code for a first child is 1. For outcomes other than live birth, this field is blank.\n",
      "* **agepreg** mother's age at pregnancy outcome (devide by 100 to get years)\n",
      "* **finalwgt** is the statistical weight associated with the respondent. It is a floating- point value that indicates the number of people in the U.S. population this respondent represents. Members of oversampled groups have lower weights.\n"
     ]
    },
    {
     "cell_type": "markdown",
     "metadata": {},
     "source": [
      "### read and parse data ###\n",
      "In the next cell we read the file, parse it according to `fields`, and create a dictionary of lists, one for each field."
     ]
    },
    {
     "cell_type": "code",
     "collapsed": false,
     "input": [
      "# columns is initialized as a dictionary\n",
      "columns={}\n",
      "# an empty list is created for each field\n",
      "for (field, start, end, cast) in fields:\n",
      "    columns[field]=[]\n",
      "    \n",
      "# The data is read from the file and inserted into the table.\n",
      "file=open('../data/ThinkStatsData/2002FemPreg.dat','r')\n",
      "for line in file.readlines():\n",
      "    for (field, start, end, cast) in fields:\n",
      "        try:\n",
      "            s = line[start-1:end]\n",
      "            val = cast(s)\n",
      "        except ValueError:\n",
      "            #print line\n",
      "            #print field, start, end, s\n",
      "            val = None\n",
      "        columns[field].append(val)"
     ],
     "language": "python",
     "metadata": {},
     "outputs": [],
     "prompt_number": 2
    },
    {
     "cell_type": "markdown",
     "metadata": {},
     "source": [
      "#### Read into a Pandas Dataframe"
     ]
    },
    {
     "cell_type": "code",
     "collapsed": false,
     "input": [
      "import pandas\n",
      "DF=pandas.DataFrame(data=columns)\n",
      "DF.head()"
     ],
     "language": "python",
     "metadata": {},
     "outputs": [
      {
       "html": [
        "<div style=\"max-height:1000px;max-width:1500px;overflow:auto;\">\n",
        "<table border=\"1\" class=\"dataframe\">\n",
        "  <thead>\n",
        "    <tr style=\"text-align: right;\">\n",
        "      <th></th>\n",
        "      <th>agepreg</th>\n",
        "      <th>babysex</th>\n",
        "      <th>birthord</th>\n",
        "      <th>birthwgt_lb</th>\n",
        "      <th>birthwgt_oz</th>\n",
        "      <th>caseid</th>\n",
        "      <th>finalwgt</th>\n",
        "      <th>nbrnaliv</th>\n",
        "      <th>outcome</th>\n",
        "      <th>prglength</th>\n",
        "    </tr>\n",
        "  </thead>\n",
        "  <tbody>\n",
        "    <tr>\n",
        "      <th>0</th>\n",
        "      <td> 3316</td>\n",
        "      <td> 1</td>\n",
        "      <td> 1</td>\n",
        "      <td> 8</td>\n",
        "      <td> 13</td>\n",
        "      <td> 1</td>\n",
        "      <td>  6448.271112</td>\n",
        "      <td> 1</td>\n",
        "      <td> 1</td>\n",
        "      <td> 39</td>\n",
        "    </tr>\n",
        "    <tr>\n",
        "      <th>1</th>\n",
        "      <td> 3925</td>\n",
        "      <td> 2</td>\n",
        "      <td> 2</td>\n",
        "      <td> 7</td>\n",
        "      <td> 14</td>\n",
        "      <td> 1</td>\n",
        "      <td>  6448.271112</td>\n",
        "      <td> 1</td>\n",
        "      <td> 1</td>\n",
        "      <td> 39</td>\n",
        "    </tr>\n",
        "    <tr>\n",
        "      <th>2</th>\n",
        "      <td> 1433</td>\n",
        "      <td> 1</td>\n",
        "      <td> 1</td>\n",
        "      <td> 9</td>\n",
        "      <td>  2</td>\n",
        "      <td> 2</td>\n",
        "      <td> 12999.542264</td>\n",
        "      <td> 3</td>\n",
        "      <td> 1</td>\n",
        "      <td> 39</td>\n",
        "    </tr>\n",
        "    <tr>\n",
        "      <th>3</th>\n",
        "      <td> 1783</td>\n",
        "      <td> 2</td>\n",
        "      <td> 2</td>\n",
        "      <td> 7</td>\n",
        "      <td>  0</td>\n",
        "      <td> 2</td>\n",
        "      <td> 12999.542264</td>\n",
        "      <td> 1</td>\n",
        "      <td> 1</td>\n",
        "      <td> 39</td>\n",
        "    </tr>\n",
        "    <tr>\n",
        "      <th>4</th>\n",
        "      <td> 1833</td>\n",
        "      <td> 2</td>\n",
        "      <td> 3</td>\n",
        "      <td> 6</td>\n",
        "      <td>  3</td>\n",
        "      <td> 2</td>\n",
        "      <td> 12999.542264</td>\n",
        "      <td> 1</td>\n",
        "      <td> 1</td>\n",
        "      <td> 39</td>\n",
        "    </tr>\n",
        "  </tbody>\n",
        "</table>\n",
        "</div>"
       ],
       "metadata": {},
       "output_type": "pyout",
       "prompt_number": 3,
       "text": [
        "   agepreg  babysex  birthord  birthwgt_lb  birthwgt_oz  caseid      finalwgt  \\\n",
        "0     3316        1         1            8           13       1   6448.271112   \n",
        "1     3925        2         2            7           14       1   6448.271112   \n",
        "2     1433        1         1            9            2       2  12999.542264   \n",
        "3     1783        2         2            7            0       2  12999.542264   \n",
        "4     1833        2         3            6            3       2  12999.542264   \n",
        "\n",
        "   nbrnaliv  outcome  prglength  \n",
        "0         1        1         39  \n",
        "1         1        1         39  \n",
        "2         3        1         39  \n",
        "3         1        1         39  \n",
        "4         1        1         39  "
       ]
      }
     ],
     "prompt_number": 3
    },
    {
     "cell_type": "markdown",
     "metadata": {},
     "source": [
      "### Normalizing the distribution of weights ###"
     ]
    },
    {
     "cell_type": "code",
     "collapsed": false,
     "input": [
      "DF['birthwgt_lb'].hist()"
     ],
     "language": "python",
     "metadata": {},
     "outputs": [
      {
       "metadata": {},
       "output_type": "pyout",
       "prompt_number": 4,
       "text": [
        "<matplotlib.axes.AxesSubplot at 0x109f4a610>"
       ]
      },
      {
       "metadata": {},
       "output_type": "display_data",
       "png": "[encoded data removed]",
       "text": [
        "<matplotlib.figure.Figure at 0x10825e890>"
       ]
      }
     ],
     "prompt_number": 4
    },
    {
     "cell_type": "code",
     "collapsed": false,
     "input": [
      "DF[DF['birthwgt_lb']>20].head()"
     ],
     "language": "python",
     "metadata": {},
     "outputs": [
      {
       "html": [
        "<div style=\"max-height:1000px;max-width:1500px;overflow:auto;\">\n",
        "<table border=\"1\" class=\"dataframe\">\n",
        "  <thead>\n",
        "    <tr style=\"text-align: right;\">\n",
        "      <th></th>\n",
        "      <th>agepreg</th>\n",
        "      <th>babysex</th>\n",
        "      <th>birthord</th>\n",
        "      <th>birthwgt_lb</th>\n",
        "      <th>birthwgt_oz</th>\n",
        "      <th>caseid</th>\n",
        "      <th>finalwgt</th>\n",
        "      <th>nbrnaliv</th>\n",
        "      <th>outcome</th>\n",
        "      <th>prglength</th>\n",
        "    </tr>\n",
        "  </thead>\n",
        "  <tbody>\n",
        "    <tr>\n",
        "      <th>126</th>\n",
        "      <td> 2275</td>\n",
        "      <td> 1</td>\n",
        "      <td> 2</td>\n",
        "      <td> 99</td>\n",
        "      <td>NaN</td>\n",
        "      <td> 145</td>\n",
        "      <td>  6131.419855</td>\n",
        "      <td> 1</td>\n",
        "      <td> 1</td>\n",
        "      <td> 39</td>\n",
        "    </tr>\n",
        "    <tr>\n",
        "      <th>127</th>\n",
        "      <td> 2875</td>\n",
        "      <td> 1</td>\n",
        "      <td> 3</td>\n",
        "      <td> 99</td>\n",
        "      <td>NaN</td>\n",
        "      <td> 145</td>\n",
        "      <td>  6131.419855</td>\n",
        "      <td> 1</td>\n",
        "      <td> 1</td>\n",
        "      <td> 39</td>\n",
        "    </tr>\n",
        "    <tr>\n",
        "      <th>129</th>\n",
        "      <td> 3441</td>\n",
        "      <td> 2</td>\n",
        "      <td> 4</td>\n",
        "      <td> 99</td>\n",
        "      <td>NaN</td>\n",
        "      <td> 145</td>\n",
        "      <td>  6131.419855</td>\n",
        "      <td> 1</td>\n",
        "      <td> 1</td>\n",
        "      <td> 39</td>\n",
        "    </tr>\n",
        "    <tr>\n",
        "      <th>233</th>\n",
        "      <td> 2658</td>\n",
        "      <td> 1</td>\n",
        "      <td> 1</td>\n",
        "      <td> 99</td>\n",
        "      <td>NaN</td>\n",
        "      <td> 252</td>\n",
        "      <td> 10810.594955</td>\n",
        "      <td> 1</td>\n",
        "      <td> 1</td>\n",
        "      <td> 40</td>\n",
        "    </tr>\n",
        "    <tr>\n",
        "      <th>234</th>\n",
        "      <td> 2800</td>\n",
        "      <td> 2</td>\n",
        "      <td> 2</td>\n",
        "      <td> 99</td>\n",
        "      <td>NaN</td>\n",
        "      <td> 252</td>\n",
        "      <td> 10810.594955</td>\n",
        "      <td> 1</td>\n",
        "      <td> 1</td>\n",
        "      <td> 40</td>\n",
        "    </tr>\n",
        "  </tbody>\n",
        "</table>\n",
        "</div>"
       ],
       "metadata": {},
       "output_type": "pyout",
       "prompt_number": 5,
       "text": [
        "     agepreg  babysex  birthord  birthwgt_lb  birthwgt_oz  caseid  \\\n",
        "126     2275        1         2           99          NaN     145   \n",
        "127     2875        1         3           99          NaN     145   \n",
        "129     3441        2         4           99          NaN     145   \n",
        "233     2658        1         1           99          NaN     252   \n",
        "234     2800        2         2           99          NaN     252   \n",
        "\n",
        "         finalwgt  nbrnaliv  outcome  prglength  \n",
        "126   6131.419855         1        1         39  \n",
        "127   6131.419855         1        1         39  \n",
        "129   6131.419855         1        1         39  \n",
        "233  10810.594955         1        1         40  \n",
        "234  10810.594955         1        1         40  "
       ]
      }
     ],
     "prompt_number": 5
    },
    {
     "cell_type": "markdown",
     "metadata": {},
     "source": [
      "Clearly the ones with weight 99 pounds are cases for which the weight is not available."
     ]
    },
    {
     "cell_type": "code",
     "collapsed": false,
     "input": [
      "selector=(DF['birthwgt_lb']>20) & (DF['birthwgt_lb']<99)\n",
      "DF[selector].head()"
     ],
     "language": "python",
     "metadata": {},
     "outputs": [
      {
       "html": [
        "<div style=\"max-height:1000px;max-width:1500px;overflow:auto;\">\n",
        "<table border=\"1\" class=\"dataframe\">\n",
        "  <thead>\n",
        "    <tr style=\"text-align: right;\">\n",
        "      <th></th>\n",
        "      <th>agepreg</th>\n",
        "      <th>babysex</th>\n",
        "      <th>birthord</th>\n",
        "      <th>birthwgt_lb</th>\n",
        "      <th>birthwgt_oz</th>\n",
        "      <th>caseid</th>\n",
        "      <th>finalwgt</th>\n",
        "      <th>nbrnaliv</th>\n",
        "      <th>outcome</th>\n",
        "      <th>prglength</th>\n",
        "    </tr>\n",
        "  </thead>\n",
        "  <tbody>\n",
        "    <tr>\n",
        "      <th>5989 </th>\n",
        "      <td> 1891</td>\n",
        "      <td> 7</td>\n",
        "      <td> 2</td>\n",
        "      <td> 97</td>\n",
        "      <td> 97</td>\n",
        "      <td>  5466</td>\n",
        "      <td> 11139.342669</td>\n",
        "      <td> 1</td>\n",
        "      <td> 1</td>\n",
        "      <td> 38</td>\n",
        "    </tr>\n",
        "    <tr>\n",
        "      <th>6069 </th>\n",
        "      <td> 1841</td>\n",
        "      <td> 2</td>\n",
        "      <td> 2</td>\n",
        "      <td> 51</td>\n",
        "      <td>  6</td>\n",
        "      <td>  5540</td>\n",
        "      <td> 21369.488468</td>\n",
        "      <td> 1</td>\n",
        "      <td> 1</td>\n",
        "      <td> 39</td>\n",
        "    </tr>\n",
        "    <tr>\n",
        "      <th>12118</th>\n",
        "      <td> 2041</td>\n",
        "      <td> 2</td>\n",
        "      <td> 1</td>\n",
        "      <td> 98</td>\n",
        "      <td> 98</td>\n",
        "      <td> 11180</td>\n",
        "      <td> 10663.726931</td>\n",
        "      <td> 1</td>\n",
        "      <td> 1</td>\n",
        "      <td> 35</td>\n",
        "    </tr>\n",
        "  </tbody>\n",
        "</table>\n",
        "</div>"
       ],
       "metadata": {},
       "output_type": "pyout",
       "prompt_number": 6,
       "text": [
        "       agepreg  babysex  birthord  birthwgt_lb  birthwgt_oz  caseid  \\\n",
        "5989      1891        7         2           97           97    5466   \n",
        "6069      1841        2         2           51            6    5540   \n",
        "12118     2041        2         1           98           98   11180   \n",
        "\n",
        "           finalwgt  nbrnaliv  outcome  prglength  \n",
        "5989   11139.342669         1        1         38  \n",
        "6069   21369.488468         1        1         39  \n",
        "12118  10663.726931         1        1         35  "
       ]
      }
     ],
     "prompt_number": 6
    },
    {
     "cell_type": "code",
     "collapsed": false,
     "input": [
      "DF=DF[~selector]"
     ],
     "language": "python",
     "metadata": {},
     "outputs": []
    },
    {
     "cell_type": "markdown",
     "metadata": {},
     "source": [
      "It seems that these three cases are mistakes. It is safer to leave them out.\n",
      "\n",
      "We do thatm and also combine the lb and oz columns into a single weight column."
     ]
    },
    {
     "cell_type": "code",
     "collapsed": false,
     "input": [
      "select=DF['birthwgt_lb']<20\n",
      "DF['weight']=DF[select]['birthwgt_lb']+DF[select]['birthwgt_oz']/16\n",
      "DF['weight'].hist(bins=32)\n",
      "shape(DF)"
     ],
     "language": "python",
     "metadata": {},
     "outputs": []
    },
    {
     "cell_type": "code",
     "collapsed": false,
     "input": [
      "anomalies=isnan(DF)\n",
      "print shape(anomalies),shape(DF)\n",
      "sum(anomalies)"
     ],
     "language": "python",
     "metadata": {},
     "outputs": []
    },
    {
     "cell_type": "code",
     "collapsed": false,
     "input": [
      "from collections import Counter\n",
      "Counter(DF.ix[sum(anomalies,axis=1)>4,:]['outcome'])"
     ],
     "language": "python",
     "metadata": {},
     "outputs": []
    },
    {
     "cell_type": "markdown",
     "metadata": {},
     "source": [
      "Clearly, the records with the large number of undefined fields correspond to dead newborns."
     ]
    },
    {
     "cell_type": "code",
     "collapsed": false,
     "input": [
      "DF=DF[DF['outcome']==1]"
     ],
     "language": "python",
     "metadata": {},
     "outputs": []
    },
    {
     "cell_type": "code",
     "collapsed": false,
     "input": [
      "scatter(DF['birthord'],DF['prglength'])"
     ],
     "language": "python",
     "metadata": {},
     "outputs": []
    },
    {
     "cell_type": "code",
     "collapsed": false,
     "input": [
      "DF.boxplot(column='prglength',by='birthord')"
     ],
     "language": "python",
     "metadata": {},
     "outputs": []
    },
    {
     "cell_type": "code",
     "collapsed": false,
     "input": [
      "DF['prglength'].hist(bins=50);\n",
      "DF[DF['birthord']==1]['prglength'].hist(bins=50);"
     ],
     "language": "python",
     "metadata": {},
     "outputs": []
    },
    {
     "cell_type": "markdown",
     "metadata": {},
     "source": [
      "## How sure are we? Using statistical tests ##\n",
      "We use the ttest statistic to decide whether the mean pregnancy length for he first-born is lower for the first pregnancy."
     ]
    },
    {
     "cell_type": "code",
     "collapsed": false,
     "input": [
      "from scipy.stats import ttest_ind\n",
      "\n",
      "D1 = DF['prglength']\n",
      "D2 = DF[DF['birthord']==1]['prglength']\n",
      "ttest_ind(D1,D2)\n"
     ],
     "language": "python",
     "metadata": {},
     "outputs": []
    },
    {
     "cell_type": "markdown",
     "metadata": {},
     "source": [
      "A p-value of 0.415 corresponds to no confidence (result could have been generated by chance alone with prob %41.5 ."
     ]
    },
    {
     "cell_type": "code",
     "collapsed": false,
     "input": [],
     "language": "python",
     "metadata": {},
     "outputs": []
    }
   ],
   "metadata": {}
  }
 ]
}