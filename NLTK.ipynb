{
 "metadata": {
  "name": "",
  "signature": "sha256:d6f24bf7e19952705405e4e3a44e8d87c5e56467628ec69705ace3244b2f6b15"
 },
 "nbformat": 3,
 "nbformat_minor": 0,
 "worksheets": [
  {
   "cells": [
    {
     "cell_type": "code",
     "collapsed": false,
     "input": [
      "import nltk"
     ],
     "language": "python",
     "metadata": {},
     "outputs": [],
     "prompt_number": 1
    },
    {
     "cell_type": "code",
     "collapsed": false,
     "input": [
      "from nltk.corpus import brown"
     ],
     "language": "python",
     "metadata": {},
     "outputs": [],
     "prompt_number": 2
    },
    {
     "cell_type": "code",
     "collapsed": false,
     "input": [
      "news_text = brown.words(categories='news')"
     ],
     "language": "python",
     "metadata": {},
     "outputs": [],
     "prompt_number": 4
    },
    {
     "cell_type": "code",
     "collapsed": false,
     "input": [
      "news_text"
     ],
     "language": "python",
     "metadata": {},
     "outputs": [
      {
       "metadata": {},
       "output_type": "pyout",
       "prompt_number": 5,
       "text": [
        "['The', 'Fulton', 'County', 'Grand', 'Jury', 'said', ...]"
       ]
      }
     ],
     "prompt_number": 5
    },
    {
     "cell_type": "code",
     "collapsed": false,
     "input": [
      "len(news_text)"
     ],
     "language": "python",
     "metadata": {},
     "outputs": [
      {
       "metadata": {},
       "output_type": "pyout",
       "prompt_number": 6,
       "text": [
        "100554"
       ]
      }
     ],
     "prompt_number": 6
    },
    {
     "cell_type": "code",
     "collapsed": false,
     "input": [
      "sentences=brown.sents(categories='news')"
     ],
     "language": "python",
     "metadata": {},
     "outputs": [],
     "prompt_number": 16
    },
    {
     "cell_type": "code",
     "collapsed": false,
     "input": [
      "%cd ../data/NLTK"
     ],
     "language": "python",
     "metadata": {},
     "outputs": [
      {
       "output_type": "stream",
       "stream": "stdout",
       "text": [
        "/Users/yoavfreund/academic.papers/Courses/DSE100/data/NLTK\n"
       ]
      }
     ],
     "prompt_number": 24
    },
    {
     "cell_type": "code",
     "collapsed": false,
     "input": [
      "with open('BrownNews.txt','w') as File:\n",
      "    File.write(' '.join([' '.join(s)for s in sentences[:10]]))"
     ],
     "language": "python",
     "metadata": {},
     "outputs": [],
     "prompt_number": 151
    },
    {
     "cell_type": "code",
     "collapsed": false,
     "input": [
      "!cat BrownNews.txt"
     ],
     "language": "python",
     "metadata": {},
     "outputs": [
      {
       "output_type": "stream",
       "stream": "stdout",
       "text": [
        "The Fulton County Grand Jury said Friday an investigation of Atlanta's recent primary election produced `` no evidence '' that any irregularities took place . The jury further said in term-end presentments that the City Executive Committee , which had over-all charge of the election , `` deserves the praise and thanks of the City of Atlanta '' for the manner in which the election was conducted . The September-October term jury had been charged by Fulton Superior Court Judge Durwood Pye to investigate reports of possible `` irregularities '' in the hard-fought primary which was won by Mayor-nominate Ivan Allen Jr. . `` Only a relative handful of such reports was received '' , the jury said , `` considering the widespread interest in the election , the number of voters and the size of this city '' . The jury said it did find that many of Georgia's registration and election laws `` are outmoded or inadequate and often ambiguous '' . It recommended that Fulton legislators act `` to have these laws studied and revised to the end of modernizing and improving them '' . The grand jury commented on a number of other topics , among them the Atlanta and Fulton County purchasing departments which it said `` are well operated and follow generally accepted practices which inure to the best interest of both governments '' . Merger proposed However , the jury said it believes `` these two offices should be combined to achieve greater efficiency and reduce the cost of administration '' . The City Purchasing Department , the jury said , `` is lacking in experienced clerical personnel as a result of city personnel policies '' ."
       ]
      }
     ],
     "prompt_number": 152
    },
    {
     "cell_type": "code",
     "collapsed": false,
     "input": [
      "contents=open('BrownNews.txt','r').read()\n",
      "L=len(contents)\n",
      "L"
     ],
     "language": "python",
     "metadata": {},
     "outputs": [
      {
       "metadata": {},
       "output_type": "pyout",
       "prompt_number": 153,
       "text": [
        "1636"
       ]
      }
     ],
     "prompt_number": 153
    },
    {
     "cell_type": "code",
     "collapsed": false,
     "input": [
      "points=[0]+[int(L*rand()) for i in range(int(L/7))]+[L]\n",
      "points.sort()\n",
      "points[-5:]"
     ],
     "language": "python",
     "metadata": {},
     "outputs": [
      {
       "metadata": {},
       "output_type": "pyout",
       "prompt_number": 154,
       "text": [
        "[1596, 1608, 1618, 1624, 1636]"
       ]
      }
     ],
     "prompt_number": 154
    },
    {
     "cell_type": "code",
     "collapsed": false,
     "input": [
      "!pwd"
     ],
     "language": "python",
     "metadata": {},
     "outputs": [
      {
       "output_type": "stream",
       "stream": "stdout",
       "text": [
        "/Users/yoavfreund/academic.papers/Courses/DSE100/data/NLTK/Chopped/Chopped\r\n"
       ]
      }
     ],
     "prompt_number": 155
    },
    {
     "cell_type": "code",
     "collapsed": false,
     "input": [
      "!mkdir Chopped"
     ],
     "language": "python",
     "metadata": {},
     "outputs": [],
     "prompt_number": 156
    },
    {
     "cell_type": "code",
     "collapsed": false,
     "input": [
      "%cd Chopped/"
     ],
     "language": "python",
     "metadata": {},
     "outputs": [
      {
       "output_type": "stream",
       "stream": "stdout",
       "text": [
        "/Users/yoavfreund/academic.papers/Courses/DSE100/data/NLTK/Chopped/Chopped/Chopped\n"
       ]
      }
     ],
     "prompt_number": 157
    },
    {
     "cell_type": "code",
     "collapsed": false,
     "input": [
      "!rm F*\n",
      "no_of_parts=len(points)-1\n",
      "Names=permutation(range(no_of_parts))\n",
      "for i in range(no_of_parts):\n",
      "    if points[i+1]>points[i]:\n",
      "        piece=contents[points[i]:points[i+1]]\n",
      "        if len(piece)!=points[i+1]-points[i]:\n",
      "            print points[i],points[i+1],\n",
      "            print '\"%s\",\"%s\"'%(piece,contents[points[i]:points[i+1]])\n",
      "        with open('F'+str(Names[i]),'w') as File:\n",
      "            File.write('%5d%5d%s\\n'%(points[i],points[i+1],piece))"
     ],
     "language": "python",
     "metadata": {},
     "outputs": [
      {
       "output_type": "stream",
       "stream": "stdout",
       "text": [
        "rm: F*: No such file or directory\r\n"
       ]
      }
     ],
     "prompt_number": 158
    },
    {
     "cell_type": "code",
     "collapsed": false,
     "input": [
      "!ls"
     ],
     "language": "python",
     "metadata": {},
     "outputs": [
      {
       "output_type": "stream",
       "stream": "stdout",
       "text": [
        "F0   F11  F122 F134 F145 F157 F17  F180 F193 F203 F215 F227 F28  F39  F50  F62  F73  F84  F95\r\n",
        "F1   F110 F123 F135 F147 F158 F170 F181 F194 F205 F216 F228 F29  F4   F51  F63  F74  F85  F96\r\n",
        "F10  F111 F124 F136 F148 F159 F171 F182 F195 F206 F217 F229 F3   F40  F52  F64  F75  F86  F97\r\n",
        "F100 F113 F125 F137 F149 F16  F172 F183 F196 F207 F218 F23  F30  F41  F53  F65  F76  F87  F98\r\n",
        "F101 F114 F126 F138 F15  F160 F173 F184 F197 F208 F219 F230 F31  F42  F54  F66  F77  F88  F99\r\n",
        "F102 F115 F127 F139 F150 F161 F174 F186 F198 F209 F22  F231 F32  F43  F55  F67  F78  F89\r\n",
        "F103 F116 F128 F14  F151 F162 F175 F187 F199 F21  F220 F232 F33  F44  F57  F68  F79  F9\r\n",
        "F104 F117 F129 F140 F152 F163 F176 F188 F2   F210 F221 F233 F34  F45  F58  F69  F8   F90\r\n",
        "F105 F118 F130 F141 F153 F164 F177 F189 F20  F211 F222 F24  F35  F47  F59  F7   F80  F91\r\n",
        "F106 F119 F131 F142 F154 F166 F178 F19  F200 F212 F223 F25  F36  F48  F6   F70  F81  F92\r\n",
        "F107 F120 F132 F143 F155 F167 F179 F191 F201 F213 F225 F26  F37  F49  F60  F71  F82  F93\r\n",
        "F109 F121 F133 F144 F156 F169 F18  F192 F202 F214 F226 F27  F38  F5   F61  F72  F83  F94\r\n"
       ]
      }
     ],
     "prompt_number": 159
    },
    {
     "cell_type": "code",
     "collapsed": false,
     "input": [
      "!cat F11*"
     ],
     "language": "python",
     "metadata": {},
     "outputs": [
      {
       "output_type": "stream",
       "stream": "stdout",
       "text": [
        "  550  551t\r\n",
        "  304  334aise and thanks of the City of\r\n",
        " 1624 1636olicies '' .\r\n",
        "  252  253o\r\n",
        "  110  118evidence\r\n",
        "  489  499e to inves\r\n",
        " 1016 1020 and\r\n",
        "  338  349anta '' for\r\n",
        " 1304 1313t of both\r\n",
        "  956  964ed that \r\n"
       ]
      }
     ],
     "prompt_number": 160
    },
    {
     "cell_type": "code",
     "collapsed": false,
     "input": [
      "from glob import glob\n",
      "from string import split\n",
      "text=['']*1700\n",
      "for name in glob('F*'):\n",
      "    line=open(name,'r').readline()\n",
      "    #print line,\n",
      "    start=int(line[0:5])\n",
      "    end=int(line[5:10])\n",
      "    string=line[10:-1]\n",
      "    #print start,end,string\n",
      "    start=int(start)\n",
      "    end=int(end)\n",
      "    if end-start!=len(string):\n",
      "        print line,\n",
      "        print end-start,len(string),string\n",
      "    text[start:end]=list(string)"
     ],
     "language": "python",
     "metadata": {},
     "outputs": [],
     "prompt_number": 161
    },
    {
     "cell_type": "code",
     "collapsed": false,
     "input": [
      "text=''.join(text)"
     ],
     "language": "python",
     "metadata": {},
     "outputs": [],
     "prompt_number": 169
    },
    {
     "cell_type": "code",
     "collapsed": false,
     "input": [
      "split(line[:-1],',')"
     ],
     "language": "python",
     "metadata": {},
     "outputs": [
      {
       "metadata": {},
       "output_type": "pyout",
       "prompt_number": 103,
       "text": [
        "[' 1322', ' 1327', 'vernm']"
       ]
      }
     ],
     "prompt_number": 103
    },
    {
     "cell_type": "code",
     "collapsed": false,
     "input": [
      "contents==text[:len(contents)]"
     ],
     "language": "python",
     "metadata": {},
     "outputs": [
      {
       "metadata": {},
       "output_type": "pyout",
       "prompt_number": 173,
       "text": [
        "True"
       ]
      }
     ],
     "prompt_number": 173
    },
    {
     "cell_type": "code",
     "collapsed": false,
     "input": [
      "len(text)"
     ],
     "language": "python",
     "metadata": {},
     "outputs": [
      {
       "metadata": {},
       "output_type": "pyout",
       "prompt_number": 165,
       "text": [
        "1700"
       ]
      }
     ],
     "prompt_number": 165
    },
    {
     "cell_type": "code",
     "collapsed": false,
     "input": [
      "len(contents)"
     ],
     "language": "python",
     "metadata": {},
     "outputs": [
      {
       "metadata": {},
       "output_type": "pyout",
       "prompt_number": 166,
       "text": [
        "1636"
       ]
      }
     ],
     "prompt_number": 166
    },
    {
     "cell_type": "code",
     "collapsed": false,
     "input": [],
     "language": "python",
     "metadata": {},
     "outputs": []
    }
   ],
   "metadata": {}
  }
 ]
}