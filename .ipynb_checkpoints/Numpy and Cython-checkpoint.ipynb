{
 "metadata": {
  "name": "",
  "signature": "sha256:0b9148c789200313c6fef0895599864a42996545a17f239485020c2e515792ca"
 },
 "nbformat": 3,
 "nbformat_minor": 0,
 "worksheets": [
  {
   "cells": [
    {
     "cell_type": "markdown",
     "metadata": {},
     "source": [
      "# Comparing the speed of python, cython and numpy\n",
      "\n",
      "first, we define two random vectors"
     ]
    },
    {
     "cell_type": "code",
     "collapsed": false,
     "input": [
      "%time\n",
      "L = 1000000\n",
      "a=np.random.uniform(low=-1,high=1,size=L)\n",
      "b=np.random.uniform(low=-1,high=1,size=L)"
     ],
     "language": "python",
     "metadata": {},
     "outputs": []
    },
    {
     "cell_type": "code",
     "collapsed": true,
     "input": [
      "shape(a),shape(b)"
     ],
     "language": "python",
     "metadata": {},
     "outputs": []
    },
    {
     "cell_type": "code",
     "collapsed": false,
     "input": [
      "a[:5],b[:5]"
     ],
     "language": "python",
     "metadata": {},
     "outputs": []
    },
    {
     "cell_type": "markdown",
     "metadata": {},
     "source": [
      "## Computing a dot product using pure python"
     ]
    },
    {
     "cell_type": "code",
     "collapsed": false,
     "input": [
      "def python_dot(a,b):\n",
      "    sum=0\n",
      "    for i in xrange(len(a)):\n",
      "        sum+=a[i]*b[i]\n",
      "    return sum\n",
      "    "
     ],
     "language": "python",
     "metadata": {},
     "outputs": []
    },
    {
     "cell_type": "code",
     "collapsed": false,
     "input": [
      "%time python_dot(a,b)"
     ],
     "language": "python",
     "metadata": {},
     "outputs": []
    },
    {
     "cell_type": "markdown",
     "metadata": {},
     "source": [
      "## Computing the dot product using the dot method in numpy"
     ]
    },
    {
     "cell_type": "code",
     "collapsed": false,
     "input": [
      "%time np.dot(a,b)"
     ],
     "language": "python",
     "metadata": {},
     "outputs": []
    },
    {
     "cell_type": "markdown",
     "metadata": {},
     "source": [
      "## Computing the dot product using cython"
     ]
    },
    {
     "cell_type": "code",
     "collapsed": false,
     "input": [
      "%load_ext cythonmagic"
     ],
     "language": "python",
     "metadata": {},
     "outputs": []
    },
    {
     "cell_type": "code",
     "collapsed": false,
     "input": [
      "%%cython\n",
      "cimport numpy as np  # makes numpy available to cython\n",
      "# The following line defines a and b as numpy arrays, cython knows how to deal with those.\n",
      "def cython_dot(np.ndarray[np.float64_t, ndim=1] a,\n",
      "                np.ndarray[np.float64_t, ndim=1] b):\n",
      "    cdef double sum\n",
      "    cdef long i\n",
      "    sum=0\n",
      "    for i in xrange(a.shape[0]):\n",
      "        sum=sum+a[i]*b[i]\n",
      "    return sum\n"
     ],
     "language": "python",
     "metadata": {},
     "outputs": []
    },
    {
     "cell_type": "code",
     "collapsed": false,
     "input": [
      "%%time\n",
      "cython_dot(a,b)"
     ],
     "language": "python",
     "metadata": {},
     "outputs": []
    },
    {
     "cell_type": "code",
     "collapsed": false,
     "input": [],
     "language": "python",
     "metadata": {},
     "outputs": []
    },
    {
     "cell_type": "code",
     "collapsed": false,
     "input": [],
     "language": "python",
     "metadata": {},
     "outputs": []
    }
   ],
   "metadata": {}
  }
 ]
}